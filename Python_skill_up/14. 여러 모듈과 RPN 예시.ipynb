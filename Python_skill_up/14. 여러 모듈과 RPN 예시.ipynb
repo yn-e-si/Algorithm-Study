{
 "cells": [
  {
   "cell_type": "markdown",
   "metadata": {},
   "source": [
    "## 14.1 파이썬 모듈의 개요"
   ]
  },
  {
   "cell_type": "code",
   "execution_count": 1,
   "metadata": {},
   "outputs": [],
   "source": [
    "print(__name__)"
   ]
  },
  {
   "cell_type": "markdown",
   "metadata": {},
   "source": [
    "## 14.2 간단한 두 개의 모듈 예시"
   ]
  },
  {
   "cell_type": "code",
   "execution_count": 4,
   "metadata": {},
   "outputs": [
    {
     "name": "stdout",
     "output_type": "stream",
     "text": [
      "Print this thing.\n"
     ]
    }
   ],
   "source": [
    "# File run_me.py ----------------------------\n",
    "\n",
    "import printstuff \t\t# printstuff.py 탑재\n",
    "printstuff.print_this('thing') \t# 함수 호출"
   ]
  },
  {
   "cell_type": "code",
   "execution_count": 5,
   "metadata": {},
   "outputs": [
    {
     "name": "stdout",
     "output_type": "stream",
     "text": [
      "100 and 200\n"
     ]
    }
   ],
   "source": [
    "# File run_me.py -----------------------------\n",
    "\n",
    "import printstuff # printstuff.py 파일 탑재\n",
    "\n",
    "# 다음 문장은 탑재된 변수를 사용한다.\n",
    "print('%s and %s' % (printstuff.x, printstuff.y))"
   ]
  },
  {
   "cell_type": "code",
   "execution_count": 6,
   "metadata": {},
   "outputs": [
    {
     "name": "stdout",
     "output_type": "stream",
     "text": [
      "Value of z is 0\n"
     ]
    }
   ],
   "source": [
    "#File run_me.py ------------------------------\n",
    "\n",
    "from foo_vars import z, print_z_val\n",
    "import foo_vars\n",
    "\n",
    "z = 100\n",
    "print_z_val()"
   ]
  },
  {
   "cell_type": "code",
   "execution_count": 8,
   "metadata": {},
   "outputs": [
    {
     "name": "stdout",
     "output_type": "stream",
     "text": [
      "Value of z is 100\n"
     ]
    }
   ],
   "source": [
    "foo_vars.z = 100\n",
    "print_z_val()"
   ]
  },
  {
   "cell_type": "code",
   "execution_count": 9,
   "metadata": {},
   "outputs": [
    {
     "name": "stdout",
     "output_type": "stream",
     "text": [
      "Enter radius:45\n",
      "Area of circle is 6361.723800000001\n",
      "Enter side:10\n",
      "Area of square is 100.0\n"
     ]
    }
   ],
   "source": [
    "# File do_areas.py ----------------------------------\n",
    "\n",
    "import poly      # Import the file poly.py\n",
    "\n",
    "def main():\n",
    "    r = float(input('Enter radius:'))\n",
    "    print('Area of circle is', poly.get_circle_area(r))\n",
    "    x = float(input('Enter side:'))\n",
    "    print('Area of square is', poly.get_square_area(x))\n",
    "\n",
    "main()"
   ]
  },
  {
   "cell_type": "markdown",
   "metadata": {},
   "source": [
    "## 14.3 import 문의 변형"
   ]
  },
  {
   "cell_type": "code",
   "execution_count": 10,
   "metadata": {},
   "outputs": [],
   "source": [
    "from poly import get_circle_area, get_square_area\n",
    "\n",
    "def main():\n",
    "    r = float(input('Enter radius:'))\n",
    "    print('Area of circle is', get_circle_area(r))\n",
    "\n",
    "    x = float(input('Enter side:'))\n",
    "    print('Area of square is', get_square_area(x))"
   ]
  },
  {
   "cell_type": "code",
   "execution_count": 11,
   "metadata": {},
   "outputs": [],
   "source": [
    "from poly import *"
   ]
  },
  {
   "cell_type": "markdown",
   "metadata": {},
   "source": [
    "## 14.4 \\_\\_all\\_\\_ 기호 사용하기"
   ]
  },
  {
   "cell_type": "code",
   "execution_count": 3,
   "metadata": {},
   "outputs": [
    {
     "name": "stdout",
     "output_type": "stream",
     "text": [
      "The value of x is 1000.\n",
      "And z is 10.\n",
      "The value of y is 500.\n",
      "And z is 10.\n"
     ]
    }
   ],
   "source": [
    "# File run_me.py ------------------------------\n",
    "\n",
    "from module2 import *\n",
    "\n",
    "pr_nice('x', x)\n",
    "pr_nice('y', y)"
   ]
  },
  {
   "cell_type": "code",
   "execution_count": 4,
   "metadata": {},
   "outputs": [
    {
     "name": "stdout",
     "output_type": "stream",
     "text": [
      "z is 10, for heaven’s sake!\n"
     ]
    }
   ],
   "source": [
    "# File listing for run_me.py ----------------------\n",
    "\n",
    "from module2 import * \t\t# x, y, pr_nice 탑재\n",
    "from module2 import z \t\t# z 탑재\n",
    "\n",
    "\n",
    "print('z is %i, for heaven’s sake!' % z)"
   ]
  },
  {
   "cell_type": "code",
   "execution_count": 6,
   "metadata": {
    "scrolled": true
   },
   "outputs": [
    {
     "ename": "NameError",
     "evalue": "name '_a' is not defined",
     "output_type": "error",
     "traceback": [
      "\u001b[1;31m---------------------------------------------------------------------------\u001b[0m",
      "\u001b[1;31mNameError\u001b[0m                                 Traceback (most recent call last)",
      "\u001b[1;32m<ipython-input-6-c70f17df2ceb>\u001b[0m in \u001b[0;36m<module>\u001b[1;34m\u001b[0m\n\u001b[0;32m      3\u001b[0m \u001b[1;32mfrom\u001b[0m \u001b[0mmod_a\u001b[0m \u001b[1;32mimport\u001b[0m \u001b[1;33m*\u001b[0m \u001b[1;31m# This will fail.\u001b[0m\u001b[1;33m\u001b[0m\u001b[1;33m\u001b[0m\u001b[0m\n\u001b[0;32m      4\u001b[0m \u001b[1;33m\u001b[0m\u001b[0m\n\u001b[1;32m----> 5\u001b[1;33m \u001b[0mprint\u001b[0m\u001b[1;33m(\u001b[0m\u001b[0m_a\u001b[0m\u001b[1;33m)\u001b[0m\u001b[1;33m\u001b[0m\u001b[1;33m\u001b[0m\u001b[0m\n\u001b[0m\u001b[0;32m      6\u001b[0m \u001b[0mprint\u001b[0m\u001b[1;33m(\u001b[0m\u001b[0m__b\u001b[0m\u001b[1;33m)\u001b[0m\u001b[1;33m\u001b[0m\u001b[1;33m\u001b[0m\u001b[0m\n",
      "\u001b[1;31mNameError\u001b[0m: name '_a' is not defined"
     ]
    }
   ],
   "source": [
    "# File run_me.py -----------------------------\n",
    "\n",
    "from mod_a import *     # 실패할 것이다.\n",
    "\n",
    "print(_a)\n",
    "print(__b)"
   ]
  },
  {
   "cell_type": "code",
   "execution_count": 7,
   "metadata": {},
   "outputs": [
    {
     "name": "stdout",
     "output_type": "stream",
     "text": [
      "10\n",
      "100\n"
     ]
    }
   ],
   "source": [
    "# File run_me.py -----------------------------\n",
    "\n",
    "from mod_a import _a, __b \t# 이제 동작할 것이다.\n",
    "\n",
    "print(_a)\n",
    "print(__b)"
   ]
  },
  {
   "cell_type": "markdown",
   "metadata": {},
   "source": [
    "## 14.6 메인 모듈과 \\_\\_main\\_\\_ "
   ]
  },
  {
   "cell_type": "code",
   "execution_count": 4,
   "metadata": {},
   "outputs": [
    {
     "name": "stdout",
     "output_type": "stream",
     "text": [
      "My name is __main__.\n",
      "\n",
      "['In', 'Out', '_', '__', '___', '__builtin__', '__builtins__', '__doc__', '__loader__', '__name__', '__package__', '__spec__', '_dh', '_i', '_i1', '_i2', '_i3', '_i4', '_ih', '_ii', '_iii', '_oh', 'exit', 'get_ipython', 'mod_a', 'quit', 'x', 'y']\n"
     ]
    }
   ],
   "source": [
    "# File run_me.py -----------------------------------\n",
    "import mod_a\n",
    "\n",
    "x = 1\n",
    "y = 2\n",
    "\n",
    "print('My name is %s.\\n' % __name__)\n",
    "\n",
    "print(dir())"
   ]
  },
  {
   "cell_type": "code",
   "execution_count": 10,
   "metadata": {},
   "outputs": [
    {
     "name": "stdout",
     "output_type": "stream",
     "text": [
      "Hi, there, Python!\n"
     ]
    }
   ],
   "source": [
    "# File start_me_up.py -----------------------------\n",
    "\n",
    "def call_me_first():\n",
    "    print('Hi, there, Python!')\n",
    "\n",
    "if __name__ == '__main__':\n",
    "    call_me_first()"
   ]
  },
  {
   "cell_type": "markdown",
   "metadata": {},
   "source": [
    "## 14.7\t상호 탑재 문제 해결하기!"
   ]
  },
  {
   "cell_type": "code",
   "execution_count": 1,
   "metadata": {},
   "outputs": [
    {
     "name": "stdout",
     "output_type": "stream",
     "text": [
      "3\n"
     ]
    },
    {
     "ename": "AttributeError",
     "evalue": "module 'mod_a' has no attribute 'funcA'",
     "output_type": "error",
     "traceback": [
      "\u001b[1;31m---------------------------------------------------------------------------\u001b[0m",
      "\u001b[1;31mAttributeError\u001b[0m                            Traceback (most recent call last)",
      "\u001b[1;32m<ipython-input-1-e6a5db6a3e1b>\u001b[0m in \u001b[0;36m<module>\u001b[1;34m\u001b[0m\n\u001b[0;32m      1\u001b[0m \u001b[1;31m# File run_me.py -----------------------------------\u001b[0m\u001b[1;33m\u001b[0m\u001b[1;33m\u001b[0m\u001b[1;33m\u001b[0m\u001b[0m\n\u001b[1;32m----> 2\u001b[1;33m \u001b[1;32mimport\u001b[0m \u001b[0mmod_a\u001b[0m\u001b[1;33m\u001b[0m\u001b[1;33m\u001b[0m\u001b[0m\n\u001b[0m\u001b[0;32m      3\u001b[0m \u001b[0mmod_a\u001b[0m\u001b[1;33m.\u001b[0m\u001b[0mfuncA\u001b[0m\u001b[1;33m(\u001b[0m\u001b[1;36m5\u001b[0m\u001b[1;33m)\u001b[0m\u001b[1;33m\u001b[0m\u001b[1;33m\u001b[0m\u001b[0m\n",
      "\u001b[1;32mD:\\_supercharted_notebook\\mod_a.py\u001b[0m in \u001b[0;36m<module>\u001b[1;34m\u001b[0m\n\u001b[0;32m      2\u001b[0m \u001b[1;32mimport\u001b[0m \u001b[0mmod_b\u001b[0m\u001b[1;33m\u001b[0m\u001b[1;33m\u001b[0m\u001b[0m\n\u001b[0;32m      3\u001b[0m \u001b[1;33m\u001b[0m\u001b[0m\n\u001b[1;32m----> 4\u001b[1;33m \u001b[0mmod_b\u001b[0m\u001b[1;33m.\u001b[0m\u001b[0mfuncB\u001b[0m\u001b[1;33m(\u001b[0m\u001b[1;36m3\u001b[0m\u001b[1;33m)\u001b[0m\u001b[1;33m\u001b[0m\u001b[1;33m\u001b[0m\u001b[0m\n\u001b[0m\u001b[0;32m      5\u001b[0m \u001b[1;33m\u001b[0m\u001b[0m\n\u001b[0;32m      6\u001b[0m \u001b[1;32mdef\u001b[0m \u001b[0mfuncA\u001b[0m\u001b[1;33m(\u001b[0m\u001b[0mn\u001b[0m\u001b[1;33m)\u001b[0m\u001b[1;33m:\u001b[0m\u001b[1;33m\u001b[0m\u001b[1;33m\u001b[0m\u001b[0m\n",
      "\u001b[1;32mD:\\_supercharted_notebook\\mod_b.py\u001b[0m in \u001b[0;36mfuncB\u001b[1;34m(n)\u001b[0m\n\u001b[0;32m      4\u001b[0m \u001b[1;32mdef\u001b[0m \u001b[0mfuncB\u001b[0m\u001b[1;33m(\u001b[0m\u001b[0mn\u001b[0m\u001b[1;33m)\u001b[0m\u001b[1;33m:\u001b[0m\u001b[1;33m\u001b[0m\u001b[1;33m\u001b[0m\u001b[0m\n\u001b[0;32m      5\u001b[0m     \u001b[0mprint\u001b[0m\u001b[1;33m(\u001b[0m\u001b[0mn\u001b[0m\u001b[1;33m)\u001b[0m\u001b[1;33m\u001b[0m\u001b[1;33m\u001b[0m\u001b[0m\n\u001b[1;32m----> 6\u001b[1;33m     \u001b[0mmod_a\u001b[0m\u001b[1;33m.\u001b[0m\u001b[0mfuncA\u001b[0m\u001b[1;33m(\u001b[0m\u001b[0mn\u001b[0m\u001b[1;33m)\u001b[0m\u001b[1;33m\u001b[0m\u001b[1;33m\u001b[0m\u001b[0m\n\u001b[0m",
      "\u001b[1;31mAttributeError\u001b[0m: module 'mod_a' has no attribute 'funcA'"
     ]
    }
   ],
   "source": [
    "# File run_me.py -----------------------------------\n",
    "import mod_a\n",
    "mod_a.funcA(5)"
   ]
  },
  {
   "cell_type": "markdown",
   "metadata": {},
   "source": [
    "## 14.8 RPN 예시: 2개의 모듈로 나누기"
   ]
  },
  {
   "cell_type": "code",
   "execution_count": 22,
   "metadata": {},
   "outputs": [
    {
     "name": "stdout",
     "output_type": "stream",
     "text": [
      "Enter RPN source: rpn_junk.txt\n",
      "16\n"
     ]
    }
   ],
   "source": [
    "#File rpn.py --------------------------------------\n",
    "\n",
    "import re\n",
    "import operator\n",
    "from rpn_io import *\n",
    "\n",
    "# 심볼 테이블: 변수의 값이 저장된다.\n",
    "\n",
    "sym_tab = { }\n",
    "\n",
    "stack = [] \t# 값을 가지고 있을 스택\n",
    "\n",
    "# 스캐너: 심볼 테이블에 저장될 변수 이름을 인식하기 위한 항목 추가\n",
    "# 그리고 심볼 테이블에 넣은 값을 대입한다.\n",
    "\n",
    "scanner = re.Scanner([\n",
    "    (r\"[ \\t\\n]\", lambda s, t: None),\n",
    "    (r\"-?(\\d*)?\\.\\d+\", lambda s, t:\n",
    "        stack.append(float(t))),\n",
    "    (r\"-?\\d+\", lambda s, t: stack.append(int(t))),\n",
    "    (r\"[a-zA-Z_][a-zA-Z_0-9]*\", lambda s, t:\n",
    "        stack.append(t)),\n",
    "    (r\"[+]\", lambda s, t: bin_op(operator.add)),\n",
    "    (r\"[-]\", lambda s, t: bin_op(operator.sub)),\n",
    "    (r\"[*]\", lambda s, t: bin_op(operator.mul)),\n",
    "    (r\"[/]\", lambda s, t: bin_op(operator.truediv)),\n",
    "    (r\"[\\^]\", lambda s, t: bin_op(operator.pow)),\n",
    "    (r\"[=]\", lambda s, t: assign_op()),\n",
    "    ])\n",
    "\n",
    "def assign_op():\n",
    "    '''대입 연산 함수: 이름과 값을 스택에서 꺼내서,\n",
    "    심볼 테이블 엔트리를 만든다.\n",
    "    '''\n",
    "    op2, op1 = stack.pop(), stack.pop()\n",
    "    if type(op2) == str: \t# 소스는 다른 변수일 수도 있다!\n",
    "        op2 = sym_tab[op2]\n",
    "    sym_tab[op1] = op2\n",
    "\n",
    "def bin_op(action):\n",
    "    '''바이너리 연산 평가 함수: 피연산자가 변수 이름이면,\n",
    "    평가하기 전에 심볼 테이블에서 찾아서\n",
    "    해당 값으로 대체한다.\n",
    "    '''\n",
    "    op2, op1 = stack.pop(), stack.pop()\n",
    "    if type(op1) == str:\n",
    "        op1 = sym_tab[op1]\n",
    "    if type(op2) == str:\n",
    "        op2 = sym_tab[op2]\n",
    "    stack.append(action(op1, op2))\n",
    "\n",
    "def main():\n",
    "    a_list = open_rpn_file()\n",
    "    if not a_list:\n",
    "        print('Bye!')\n",
    "        return\n",
    "\n",
    "    for a_line in a_list:\n",
    "        a_line = a_line.strip()\n",
    "        if a_line: \n",
    "            tokens, unknown = scanner.scan(a_line)\n",
    "            if unknown:\n",
    "                print('Unrecognized input:', unknown)\n",
    "    print(str(stack[-1]))\n",
    "\n",
    "main()"
   ]
  },
  {
   "cell_type": "markdown",
   "metadata": {},
   "source": [
    "## 14.9 RPN 예시: I/O 지침 추가하기"
   ]
  },
  {
   "cell_type": "code",
   "execution_count": 31,
   "metadata": {},
   "outputs": [
    {
     "name": "stdout",
     "output_type": "stream",
     "text": [
      "Enter RPN source: rpn_hyp.txt\n",
      "Enter side 1: 30\n",
      "Enter side 2: 40\n",
      "Hypotenuse equals 50.0 "
     ]
    }
   ],
   "source": [
    "#File rpn.py --------------------------------------\n",
    "\n",
    "import re\n",
    "import operator\n",
    "from rpn_io import *\n",
    "\n",
    "# 심볼 테이블: 변수의 값이 저장된다.\n",
    "\n",
    "sym_tab = { }\n",
    "\n",
    "stack = [] \t# 값을 보관하기 위한 스택\n",
    "\n",
    "# 스캐너: 심볼 테이블에 저장될 변수 이름을 인식하기 위한 항목 추가\n",
    "# 그리고 심볼 테이블에 넣은 값을 대입한다.\n",
    "\n",
    "scanner = re.Scanner([\n",
    "    (r\"[ \\t\\n]\", lambda s, t: None),\n",
    "    (r\"-?(\\d*)?\\.\\d+\", lambda s, t:stack.append(float(t))),\n",
    "    (r\"-?\\d+\", lambda s, t: stack.append(int(t))),\n",
    "    (r\"[a-zA-Z_][a-zA-Z_0-9]*\", lambda s, t:stack.append(t)),\n",
    "    (r\"[+]\", lambda s, t: bin_op(operator.add)),\n",
    "    (r\"[-]\", lambda s, t: bin_op(operator.sub)),\n",
    "    (r\"[*]\", lambda s, t: bin_op(operator.mul)),\n",
    "    (r\"[/]\", lambda s, t: bin_op(operator.truediv)),\n",
    "    (r\"[\\^]\", lambda s, t: bin_op(operator.pow)),\n",
    "    (r\"[=]\", lambda s, t: assign_op()),\n",
    "    ])\n",
    "\n",
    "def assign_op():\n",
    "    '''대입 연산 함수: 이름과 값을 스택에서 꺼내서,\n",
    "    심볼 테이블 엔트리를 만든다.\n",
    "    '''\n",
    "    op2, op1 = stack.pop(), stack.pop()\n",
    "    if type(op2) == str: \t# 소스는 다른 변수일 수도 있다!\n",
    "        op2 = sym_tab[op2]\n",
    "    sym_tab[op1] = op2\n",
    "\n",
    "def bin_op(action):\n",
    "    '''바이너리 연산 평가 함수: 피연산자가 변수 이름이면,\n",
    "    평가하기 전에 심볼 테이블에서 찾아서\n",
    "    해당 값으로 대체한다.\n",
    "    '''\n",
    "    op2, op1 = stack.pop(), stack.pop()\n",
    "    if type(op1) == str:\n",
    "        op1 = sym_tab[op1]\n",
    "    if type(op2) == str:\n",
    "        op2 = sym_tab[op2]\n",
    "    stack.append(action(op1, op2))\n",
    "\n",
    "def main():\n",
    "    a_list = open_rpn_file()\n",
    "    if not a_list:\n",
    "        print('Bye!')\n",
    "        return\n",
    "    \n",
    "    for a_line in a_list:\n",
    "        a_line = a_line.strip()\n",
    "        if a_line.startswith('PRINTS'):\n",
    "            do_prints(a_line[7:])\n",
    "        elif a_line.startswith('PRINTLN'):\n",
    "            do_println(a_line[8:])\n",
    "        elif a_line.startswith('PRINTVAR'):\n",
    "            do_printvar(a_line[9:], sym_tab)\n",
    "        elif a_line.startswith('INPUT'):\n",
    "            do_input(a_line[6:], sym_tab)\n",
    "        elif a_line: \n",
    "            tokens, unknown = scanner.scan(a_line)\n",
    "            if unknown:\n",
    "                print('Unrecognized input:', unknown)\n",
    "\n",
    "main()"
   ]
  },
  {
   "cell_type": "markdown",
   "metadata": {},
   "source": [
    "## 14.10 RPN 예시 추가 변경\n",
    "### 14.10.2\t0이 아니면 되돌아가는 기능 추가하기"
   ]
  },
  {
   "cell_type": "code",
   "execution_count": 4,
   "metadata": {},
   "outputs": [
    {
     "name": "stdout",
     "output_type": "stream",
     "text": [
      "Enter RPN source: mystery.txt\n",
      "Enter number of fibos to print: 10\n",
      "1 2 3 5 8 13 21 34 55 89 "
     ]
    }
   ],
   "source": [
    "#File rpn.py --------------------------------------\n",
    "\n",
    "import re\n",
    "import operator\n",
    "from rpn_io import *\n",
    "\n",
    "# 심볼 테이블: 변수의 값이 저장된다.\n",
    "\n",
    "sym_tab = { } \t\t# (변수를 위한) 심볼 테이블\n",
    "stack = [] \t\t    # 값을 보관하기 위한 스택\n",
    "pc = -1 \t\t\t# 프로그램 카운터 \n",
    "\n",
    "\n",
    "# 스캐너: 심볼 테이블에 저장될 변수 이름을 인식하기 위한 항목 추가\n",
    "# 그리고 심볼 테이블에 넣은 값을 대입한다.\n",
    "\n",
    "scanner = re.Scanner([\n",
    "    (r\"[ \\t\\n]\", lambda s, t: None),\n",
    "    (r\"-?(\\d*)?\\.\\d+\", lambda s, t:stack.append(float(t))),\n",
    "    (r\"-?\\d+\", lambda s, t: stack.append(int(t))),\n",
    "    (r\"[a-zA-Z_][a-zA-Z_0-9]*\", lambda s, t:stack.append(t)),\n",
    "    (r\"[+]\", lambda s, t: bin_op(operator.add)),\n",
    "    (r\"[-]\", lambda s, t: bin_op(operator.sub)),\n",
    "    (r\"[*]\", lambda s, t: bin_op(operator.mul)),\n",
    "    (r\"[/]\", lambda s, t: bin_op(operator.truediv)),\n",
    "    (r\"[>]\", lambda s, t: bin_op(operator.gt)),\n",
    "    (r\"[\\^]\", lambda s, t: bin_op(operator.pow)),\n",
    "    (r\"[=]\", lambda s, t: assign_op()),\n",
    "    (r\"[?]\", lambda s, t: jnz_op()) \n",
    "    ])\n",
    "\n",
    "def assign_op():\n",
    "    '''대입 연산 함수: 이름과 값을 스택에서 꺼내서,\n",
    "    심볼 테이블 엔트리를 만든다.\n",
    "    '''\n",
    "    op2, op1 = stack.pop(), stack.pop()\n",
    "    if type(op2) == str: \t# 소스는 다른 변수일 수도 있다!\n",
    "        op2 = sym_tab[op2]\n",
    "    sym_tab[op1] = op2\n",
    "\n",
    "def bin_op(action):\n",
    "    '''바이너리 연산 평가 함수: 피연산자가 변수 이름이면,\n",
    "    평가하기 전에 심볼 테이블에서 찾아서\n",
    "    해당 값으로 대체한다.\n",
    "    '''\n",
    "    op2, op1 = stack.pop(), stack.pop()\n",
    "    if type(op1) == str:\n",
    "        op1 = sym_tab[op1]\n",
    "    if type(op2) == str:\n",
    "        op2 = sym_tab[op2]\n",
    "    stack.append(action(op1, op2))\n",
    "    \n",
    "def jnz_op():\n",
    "    global pc\n",
    "    op2, op1 = stack.pop(), stack.pop()\n",
    "    if type(op1) == str:\n",
    "        op1 = sym_tab[op1]\n",
    "    if type(op2) == str:\n",
    "        op2 = sym_tab[op2]\n",
    "    if op1:\n",
    "        pc = int(op2)-1\n",
    "\n",
    "def main():\n",
    "    global pc \n",
    "    a_list = open_rpn_file()\n",
    "    if not a_list:\n",
    "        print('Bye!')\n",
    "        return\n",
    "    pc = -1 \n",
    "    while True:\n",
    "        pc += 1\n",
    "        if pc >= len(a_list):\n",
    "            break \n",
    "        a_line = a_list[pc]\n",
    "        try: \n",
    "            a_line = a_line.strip()\n",
    "            if a_line.startswith('PRINTS'):\n",
    "                do_prints(a_line[7:])\n",
    "            elif a_line.startswith('PRINTLN'):\n",
    "                do_println(a_line[8:])\n",
    "            elif a_line.startswith('PRINTVAR'):\n",
    "                do_printvar(a_line[9:], sym_tab)\n",
    "            elif a_line.startswith('INPUT'):\n",
    "                do_input(a_line[6:], sym_tab)\n",
    "            elif a_line:\n",
    "                tokens, unknown = scanner.scan(a_line)\n",
    "                if unknown:\n",
    "                    print('Unrecognized input:', unknown)\n",
    "                    break\n",
    "        except KeyError as e:\n",
    "            print('Unrecognized symbol', e.args[0],\n",
    "                    'found in line', pc)\n",
    "            print(a_list[pc])\n",
    "            break \n",
    "\n",
    "main()"
   ]
  },
  {
   "cell_type": "markdown",
   "metadata": {},
   "source": [
    "### 14.10.3\t초과(>)와 임의 숫자 획득(!)"
   ]
  },
  {
   "cell_type": "code",
   "execution_count": 7,
   "metadata": {},
   "outputs": [
    {
     "name": "stdout",
     "output_type": "stream",
     "text": [
      "Enter RPN source: rpn_game.txt\n",
      "Enter your guess: 30\n",
      "Too low! Try again. Enter your guess: 50\n",
      "Too high! Try again. Enter your guess: 40\n",
      "Too low! Try again. Enter your guess: 45\n",
      "Too high! Try again. Enter your guess: 42\n",
      "Too low! Try again. Enter your guess: 43\n",
      "Congrats! You got it! Play again? (1 = yes, 0 = no): 0\n"
     ]
    }
   ],
   "source": [
    "#File rpn.py --------------------------------------\n",
    "\n",
    "import re\n",
    "import operator\n",
    "from rpn_io import *\n",
    "from random import randint\n",
    "\n",
    "# 심볼 테이블: 변수의 값이 저장된다.\n",
    "\n",
    "sym_tab = { } \t\t# (변수를 위한) 심볼 테이블\n",
    "stack = [] \t\t    # 값을 보관하기 위한 스택\n",
    "pc = -1 \t\t\t# 프로그램 카운터 \n",
    "\n",
    "\n",
    "# 스캐너: 심볼 테이블에 저장될 변수 이름을 인식하기 위한 항목 추가\n",
    "# 그리고 심볼 테이블에 넣은 값을 대입한다.\n",
    "\n",
    "scanner = re.Scanner([\n",
    "    (r\"[ \\t\\n]\", lambda s, t: None),\n",
    "    (r\"-?(\\d*)?\\.\\d+\", lambda s, t: stack.append(float(t))),\n",
    "    (r\"-?\\d+\", lambda s, t: stack.append(int(t))),\n",
    "    (r\"[a-zA-Z_][a-zA-Z_0-9]*\", lambda s, t: stack.append(t)),\n",
    "    (r\"[+]\", lambda s, t: bin_op(operator.add)),\n",
    "    (r\"[-]\", lambda s, t: bin_op(operator.sub)),\n",
    "    (r\"[*]\", lambda s, t: bin_op(operator.mul)),\n",
    "    (r\"[/]\", lambda s, t: bin_op(operator.truediv)),\n",
    "    (r\"[>]\", lambda s, t: bin_op(operator.gt)),\n",
    "    (r\"[!]\", lambda s, t: bin_op(randint)), \n",
    "    (r\"[\\^]\", lambda s, t: bin_op(operator.pow)),\n",
    "    (r\"[=]\", lambda s, t: assign_op()),\n",
    "    (r\"[?]\", lambda s, t: jnz_op())\n",
    "])\n",
    "\n",
    "    \n",
    "def jnz_op():\n",
    "    global pc\n",
    "    op2, op1 = stack.pop(), stack.pop()\n",
    "    if type(op1) == str:\n",
    "        op1 = sym_tab[op1]\n",
    "    if type(op2) == str:\n",
    "        op2 = sym_tab[op2]\n",
    "    if op1:\n",
    "        pc = int(op2)-1\n",
    "        \n",
    "def assign_op():\n",
    "    '''대입 연산 함수: 이름과 값을 스택에서 꺼내서,\n",
    "    심볼 테이블 엔트리를 만든다.\n",
    "    '''\n",
    "    op2, op1 = stack.pop(), stack.pop()\n",
    "    if type(op2) == str: \t# 소스는 다른 변수일 수도 있다!\n",
    "        op2 = sym_tab[op2]\n",
    "    sym_tab[op1] = op2\n",
    "\n",
    "def bin_op(action):\n",
    "    '''바이너리 연산 평가 함수: 피연산자가 변수 이름이면,\n",
    "    평가하기 전에 심볼 테이블에서 찾아서\n",
    "    해당 값으로 대체한다.\n",
    "    '''\n",
    "    op2, op1 = stack.pop(), stack.pop()\n",
    "    if type(op1) == str:\n",
    "        op1 = sym_tab[op1]\n",
    "    if type(op2) == str:\n",
    "        op2 = sym_tab[op2]\n",
    "    stack.append(action(op1, op2))\n",
    "\n",
    "def main():\n",
    "    global pc \n",
    "    a_list = open_rpn_file()\n",
    "    if not a_list:\n",
    "        print('Bye!')\n",
    "        return\n",
    "    pc = -1 \n",
    "    while True:\n",
    "        pc += 1\n",
    "        if pc >= len(a_list):\n",
    "            break \n",
    "        a_line = a_list[pc]\n",
    "        try: \n",
    "            a_line = a_line.strip()\n",
    "            if a_line.startswith('PRINTS'):\n",
    "                do_prints(a_line[7:])\n",
    "            elif a_line.startswith('PRINTLN'):\n",
    "                do_println(a_line[8:])\n",
    "            elif a_line.startswith('PRINTVAR'):\n",
    "                do_printvar(a_line[9:], sym_tab)\n",
    "            elif a_line.startswith('INPUT'):\n",
    "                do_input(a_line[6:], sym_tab)\n",
    "            elif a_line:\n",
    "                tokens, unknown = scanner.scan(a_line)\n",
    "                if unknown:\n",
    "                    print('Unrecognized input:', unknown)\n",
    "                    break\n",
    "        except KeyError as e:\n",
    "            print('Unrecognized symbol', e.args[0],\n",
    "                    'found in line', pc)\n",
    "            print(a_list[pc])\n",
    "            break \n",
    "\n",
    "main()"
   ]
  },
  {
   "cell_type": "markdown",
   "metadata": {},
   "source": [
    "## 14.11 RPN: 모든 소스 코드 모으기"
   ]
  },
  {
   "cell_type": "code",
   "execution_count": 9,
   "metadata": {},
   "outputs": [
    {
     "name": "stdout",
     "output_type": "stream",
     "text": [
      "Enter RPN source: rpn_io.txt\n",
      "File not found. Re-enter.\n",
      "Enter RPN source: rpn_game.txt\n",
      "Enter your guess: 50\n",
      "Too high! Try again. Enter your guess: 25\n",
      "Too high! Try again. Enter your guess: 13\n",
      "Too low! Try again. Enter your guess: 18\n",
      "Too high! Try again. Enter your guess: 15\n",
      "Too low! Try again. Enter your guess: 16\n",
      "Congrats! You got it! Play again? (1 = yes, 0 = no): 0\n"
     ]
    }
   ],
   "source": [
    "#File rpn.py --------------------------------------\n",
    "\n",
    "import re\n",
    "import operator\n",
    "from random import randint\n",
    "from rpn_io import *\n",
    "\n",
    "sym_tab = { } \t# (변수를 위한) 심볼 테이블\n",
    "stack = [] \t# 값을 보관할 스택\n",
    "pc = -1 \t\t# 프로그램 카운터\n",
    "\n",
    "# 스캐너: 심볼 테이블에 저장될 변수 이름을 인식하기 위한 항목 추가\n",
    "# 그리고 심볼 테이블에 넣은 값을 대입한다.\n",
    "\n",
    "scanner = re.Scanner([\n",
    "    (r\"[ \\t\\n]\", lambda s, t: None),\n",
    "    (r\"-?(\\d*)?\\.\\d+\", lambda s, t:\n",
    "        stack.append(float(t))),\n",
    "    (r\"-?\\d+\", lambda s, t: stack.append(int(t))),\n",
    "    (r\"[a-zA-Z_][a-zA-Z_0-9]*\", lambda s, t:\n",
    "        stack.append(t)),\n",
    "    (r\"[+]\", lambda s, t: bin_op(operator.add)),\n",
    "    (r\"[-]\", lambda s, t: bin_op(operator.sub)),\n",
    "    (r\"[*]\", lambda s, t: bin_op(operator.mul)),\n",
    "    (r\"[/]\", lambda s, t: bin_op(operator.truediv)),\n",
    "    (r\"[>]\", lambda s, t: bin_op(operator.gt)),\n",
    "    (r\"[!]\", lambda s, t: bin_op(randint)),\n",
    "    (r\"[\\^]\", lambda s, t: bin_op(operator.pow)),\n",
    "    (r\"[=]\", lambda s, t: assign_op()),\n",
    "    (r\"[?]\", lambda s, t: jnz_op())\n",
    "])\n",
    "\n",
    "def jnz_op():\n",
    "    ''' 0이 아니면 이동하는 연산.\n",
    "    피연산자를 검증한 후, 첫 번째 op를 테스트한다.\n",
    "    0이 아니면, 프로그램 카운터를 op2 – 1로 설정한다.\n",
    "    '''\n",
    "    global pc\n",
    "    op2, op1 = stack.pop(), stack.pop()\n",
    "    if type(op1) == str:\n",
    "        op1 = sym_tab[op1]\n",
    "    if type(op2) == str:\n",
    "        op2 = sym_tab[op2]\n",
    "    if op1:\n",
    "        pc = int(op2) - 1 # Convert op to int format.\n",
    "\n",
    "def assign_op():\n",
    "    '''대입 연산 함수: 이름과 값을 스택에서 꺼내서,\n",
    "    심볼 테이블 엔트리를 만든다.\n",
    "    '''\n",
    "    op2, op1 = stack.pop(), stack.pop()\n",
    "    if type(op2) == str: # Source may be another var!\n",
    "        op2 = sym_tab[op2]\n",
    "    sym_tab[op1] = op2\n",
    "\n",
    "def bin_op(action):\n",
    "    ''' 바이너리 연산 평가 함수: 피연산자가 변수 이름이면,\n",
    "    평가하기 전에 심볼 테이블에서 찾아서\n",
    "    해당 값으로 대체한다.\n",
    "    '''\n",
    "    op2, op1 = stack.pop(), stack.pop()\n",
    "    if type(op1) == str:\n",
    "        op1 = sym_tab[op1]\n",
    "    if type(op2) == str:\n",
    "        op2 = sym_tab[op2]\n",
    "    stack.append(action(op1, op2))\n",
    "\n",
    "def main():\n",
    "    '''메인 함수\n",
    "    프로그램을 주도하는 함수다. 파일을 열고  a_list안에\n",
    "    연산자를 넣어서, a_list의 문자열을 하나씩 처리한다.\n",
    "    '''\n",
    "    global pc\n",
    "    dir('__main__')\n",
    "    a_list = open_rpn_file()\n",
    "    if not a_list:\n",
    "        print('Bye!')\n",
    "        return\n",
    "    pc = -1\n",
    "    while True:\n",
    "        pc += 1\n",
    "        if pc >= len(a_list):\n",
    "            break\n",
    "        a_line = a_list[pc]\n",
    "        try:\n",
    "            a_line = a_line.strip()\n",
    "            if a_line.startswith('PRINTS'):\n",
    "                do_prints(a_line[7:])\n",
    "            elif a_line.startswith('PRINTLN'):\n",
    "                do_println(a_line[8:])\n",
    "            elif a_line.startswith('PRINTVAR'):\n",
    "                do_printvar(a_line[9:], sym_tab)\n",
    "            elif a_line.startswith('INPUT'):\n",
    "                do_input(a_line[6:], sym_tab)\n",
    "            elif a_line:\n",
    "                tokens, unknown = scanner.scan(a_line)\n",
    "                if unknown:\n",
    "                    print('Unrecognized input:', unknown)\n",
    "                    break\n",
    "        except KeyError as e:\n",
    "            print('Unrecognized symbol', e.args[0],\n",
    "                   'found in line', pc)\n",
    "            print(a_list[pc])\n",
    "            break\n",
    "\n",
    "main()"
   ]
  },
  {
   "cell_type": "code",
   "execution_count": null,
   "metadata": {},
   "outputs": [],
   "source": []
  }
 ],
 "metadata": {
  "kernelspec": {
   "display_name": "Python 3",
   "language": "python",
   "name": "python3"
  },
  "language_info": {
   "codemirror_mode": {
    "name": "ipython",
    "version": 3
   },
   "file_extension": ".py",
   "mimetype": "text/x-python",
   "name": "python",
   "nbconvert_exporter": "python",
   "pygments_lexer": "ipython3",
   "version": "3.7.4"
  }
 },
 "nbformat": 4,
 "nbformat_minor": 4
}
