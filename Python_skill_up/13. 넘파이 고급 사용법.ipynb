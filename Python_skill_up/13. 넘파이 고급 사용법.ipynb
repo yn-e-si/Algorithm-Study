{
 "cells": [
  {
   "cell_type": "markdown",
   "metadata": {},
   "source": [
    "## 13.1\t <절> numpy의 고급 수학 연산"
   ]
  },
  {
   "cell_type": "code",
   "execution_count": 1,
   "metadata": {},
   "outputs": [
    {
     "data": {
      "text/plain": [
       "array([0.00000000e+00, 3.42020143e-01, 6.42787610e-01, 8.66025404e-01,\n",
       "       9.84807753e-01, 9.84807753e-01, 8.66025404e-01, 6.42787610e-01,\n",
       "       3.42020143e-01, 1.22464680e-16])"
      ]
     },
     "execution_count": 1,
     "metadata": {},
     "output_type": "execute_result"
    }
   ],
   "source": [
    "import numpy as np\n",
    "A = np.linspace(0, np.pi, 10)\n",
    "B = np.empty(10)\n",
    "np.sin(A, out=B)"
   ]
  },
  {
   "cell_type": "code",
   "execution_count": 2,
   "metadata": {},
   "outputs": [
    {
     "data": {
      "text/plain": [
       "array([0.00000000e+00, 3.42020143e-01, 6.42787610e-01, 8.66025404e-01,\n",
       "       9.84807753e-01, 9.84807753e-01, 8.66025404e-01, 6.42787610e-01,\n",
       "       3.42020143e-01, 1.22464680e-16])"
      ]
     },
     "execution_count": 2,
     "metadata": {},
     "output_type": "execute_result"
    }
   ],
   "source": [
    "import numpy as np\n",
    "A = np.linspace(0, np.pi, 10)\n",
    "B = np.sin(A)\n",
    "B"
   ]
  },
  {
   "cell_type": "code",
   "execution_count": 3,
   "metadata": {},
   "outputs": [
    {
     "name": "stdout",
     "output_type": "stream",
     "text": [
      "sin(x, /, out=None, *, where=True, casting='same_kind', order='K', dtype=None, subok=True[, signature, extobj])\n",
      "\n",
      "Trigonometric sine, element-wise.\n",
      "\n",
      "Parameters\n",
      "----------\n",
      "x : array_like\n",
      "    Angle, in radians (:math:`2 \\pi` rad equals 360 degrees).\n",
      "out : ndarray, None, or tuple of ndarray and None, optional\n",
      "    A location into which the result is stored. If provided, it must have\n",
      "    a shape that the inputs broadcast to. If not provided or None,\n",
      "    a freshly-allocated array is returned. A tuple (possible only as a\n",
      "    keyword argument) must have length equal to the number of outputs.\n",
      "where : array_like, optional\n",
      "    This condition is broadcast over the input. At locations where the\n",
      "    condition is True, the `out` array will be set to the ufunc result.\n",
      "    Elsewhere, the `out` array will retain its original value.\n",
      "    Note that if an uninitialized `out` array is created via the default\n",
      "    ``out=None``, locations within it where the condition is False will\n",
      "    remain uninitialized.\n",
      "**kwargs\n",
      "    For other keyword-only arguments, see the\n",
      "    :ref:`ufunc docs <ufuncs.kwargs>`.\n",
      "\n",
      "Returns\n",
      "-------\n",
      "y : array_like\n",
      "    The sine of each element of x.\n",
      "    This is a scalar if `x` is a scalar.\n",
      "\n",
      "See Also\n",
      "--------\n",
      "arcsin, sinh, cos\n",
      "\n",
      "Notes\n",
      "-----\n",
      "The sine is one of the fundamental functions of trigonometry (the\n",
      "mathematical study of triangles).  Consider a circle of radius 1\n",
      "centered on the origin.  A ray comes in from the :math:`+x` axis, makes\n",
      "an angle at the origin (measured counter-clockwise from that axis), and\n",
      "departs from the origin.  The :math:`y` coordinate of the outgoing\n",
      "ray's intersection with the unit circle is the sine of that angle.  It\n",
      "ranges from -1 for :math:`x=3\\pi / 2` to +1 for :math:`\\pi / 2.`  The\n",
      "function has zeroes where the angle is a multiple of :math:`\\pi`.\n",
      "Sines of angles between :math:`\\pi` and :math:`2\\pi` are negative.\n",
      "The numerous properties of the sine and related functions are included\n",
      "in any standard trigonometry text.\n",
      "\n",
      "Examples\n",
      "--------\n",
      "Print sine of one angle:\n",
      "\n",
      ">>> np.sin(np.pi/2.)\n",
      "1.0\n",
      "\n",
      "Print sines of an array of angles given in degrees:\n",
      "\n",
      ">>> np.sin(np.array((0., 30., 45., 60., 90.)) * np.pi / 180. )\n",
      "array([ 0.        ,  0.5       ,  0.70710678,  0.8660254 ,  1.        ])\n",
      "\n",
      "Plot the sine function:\n",
      "\n",
      ">>> import matplotlib.pylab as plt\n",
      ">>> x = np.linspace(-np.pi, np.pi, 201)\n",
      ">>> plt.plot(x, np.sin(x))\n",
      ">>> plt.xlabel('Angle [rad]')\n",
      ">>> plt.ylabel('sin(x)')\n",
      ">>> plt.axis('tight')\n",
      ">>> plt.show()\n",
      "cos(x, /, out=None, *, where=True, casting='same_kind', order='K', dtype=None, subok=True[, signature, extobj])\n",
      "\n",
      "Cosine element-wise.\n",
      "\n",
      "Parameters\n",
      "----------\n",
      "x : array_like\n",
      "    Input array in radians.\n",
      "out : ndarray, None, or tuple of ndarray and None, optional\n",
      "    A location into which the result is stored. If provided, it must have\n",
      "    a shape that the inputs broadcast to. If not provided or None,\n",
      "    a freshly-allocated array is returned. A tuple (possible only as a\n",
      "    keyword argument) must have length equal to the number of outputs.\n",
      "where : array_like, optional\n",
      "    This condition is broadcast over the input. At locations where the\n",
      "    condition is True, the `out` array will be set to the ufunc result.\n",
      "    Elsewhere, the `out` array will retain its original value.\n",
      "    Note that if an uninitialized `out` array is created via the default\n",
      "    ``out=None``, locations within it where the condition is False will\n",
      "    remain uninitialized.\n",
      "**kwargs\n",
      "    For other keyword-only arguments, see the\n",
      "    :ref:`ufunc docs <ufuncs.kwargs>`.\n",
      "\n",
      "Returns\n",
      "-------\n",
      "y : ndarray\n",
      "    The corresponding cosine values.\n",
      "    This is a scalar if `x` is a scalar.\n",
      "\n",
      "Notes\n",
      "-----\n",
      "If `out` is provided, the function writes the result into it,\n",
      "and returns a reference to `out`.  (See Examples)\n",
      "\n",
      "References\n",
      "----------\n",
      "M. Abramowitz and I. A. Stegun, Handbook of Mathematical Functions.\n",
      "New York, NY: Dover, 1972.\n",
      "\n",
      "Examples\n",
      "--------\n",
      ">>> np.cos(np.array([0, np.pi/2, np.pi]))\n",
      "array([  1.00000000e+00,   6.12303177e-17,  -1.00000000e+00])\n",
      ">>>\n",
      ">>> # Example of providing the optional output parameter\n",
      ">>> out1 = np.array([0], dtype='d')\n",
      ">>> out2 = np.cos([0.1], out1)\n",
      ">>> out2 is out1\n",
      "True\n",
      ">>>\n",
      ">>> # Example of ValueError due to provision of shape mis-matched `out`\n",
      ">>> np.cos(np.zeros((3,3)),np.zeros((2,2)))\n",
      "Traceback (most recent call last):\n",
      "  File \"<stdin>\", line 1, in <module>\n",
      "ValueError: operands could not be broadcast together with shapes (3,3) (2,2)\n",
      "power(x1, x2, /, out=None, *, where=True, casting='same_kind', order='K', dtype=None, subok=True[, signature, extobj])\n",
      "\n",
      "First array elements raised to powers from second array, element-wise.\n",
      "\n",
      "Raise each base in `x1` to the positionally-corresponding power in\n",
      "`x2`.  `x1` and `x2` must be broadcastable to the same shape. Note that an\n",
      "integer type raised to a negative integer power will raise a ValueError.\n",
      "\n",
      "Parameters\n",
      "----------\n",
      "x1 : array_like\n",
      "    The bases.\n",
      "x2 : array_like\n",
      "    The exponents. If ``x1.shape != x2.shape``, they must be broadcastable to a common shape (which becomes the shape of the output).\n",
      "out : ndarray, None, or tuple of ndarray and None, optional\n",
      "    A location into which the result is stored. If provided, it must have\n",
      "    a shape that the inputs broadcast to. If not provided or None,\n",
      "    a freshly-allocated array is returned. A tuple (possible only as a\n",
      "    keyword argument) must have length equal to the number of outputs.\n",
      "where : array_like, optional\n",
      "    This condition is broadcast over the input. At locations where the\n",
      "    condition is True, the `out` array will be set to the ufunc result.\n",
      "    Elsewhere, the `out` array will retain its original value.\n",
      "    Note that if an uninitialized `out` array is created via the default\n",
      "    ``out=None``, locations within it where the condition is False will\n",
      "    remain uninitialized.\n",
      "**kwargs\n",
      "    For other keyword-only arguments, see the\n",
      "    :ref:`ufunc docs <ufuncs.kwargs>`.\n",
      "\n",
      "Returns\n",
      "-------\n",
      "y : ndarray\n",
      "    The bases in `x1` raised to the exponents in `x2`.\n",
      "    This is a scalar if both `x1` and `x2` are scalars.\n",
      "\n",
      "See Also\n",
      "--------\n",
      "float_power : power function that promotes integers to float\n",
      "\n",
      "Examples\n",
      "--------\n",
      "Cube each element in a list.\n",
      "\n",
      ">>> x1 = range(6)\n",
      ">>> x1\n",
      "[0, 1, 2, 3, 4, 5]\n",
      ">>> np.power(x1, 3)\n",
      "array([  0,   1,   8,  27,  64, 125])\n",
      "\n",
      "Raise the bases to different exponents.\n",
      "\n",
      ">>> x2 = [1.0, 2.0, 3.0, 3.0, 2.0, 1.0]\n",
      ">>> np.power(x1, x2)\n",
      "array([  0.,   1.,   8.,  27.,  16.,   5.])\n",
      "\n",
      "The effect of broadcasting.\n",
      "\n",
      ">>> x2 = np.array([[1, 2, 3, 3, 2, 1], [1, 2, 3, 3, 2, 1]])\n",
      ">>> x2\n",
      "array([[1, 2, 3, 3, 2, 1],\n",
      "       [1, 2, 3, 3, 2, 1]])\n",
      ">>> np.power(x1, x2)\n",
      "array([[ 0,  1,  8, 27, 16,  5],\n",
      "       [ 0,  1,  8, 27, 16,  5]])\n"
     ]
    }
   ],
   "source": [
    "import numpy as np\n",
    "np.info(np.sin)\n",
    "np.info(np.cos)\n",
    "np.info(np.power)"
   ]
  },
  {
   "cell_type": "code",
   "execution_count": 4,
   "metadata": {},
   "outputs": [
    {
     "name": "stdout",
     "output_type": "stream",
     "text": [
      "[0 1 2 3 4 5]\n",
      "[ 0  1  4  9 16 25]\n"
     ]
    }
   ],
   "source": [
    "import numpy as np\n",
    "A = np.arange(6)\n",
    "print(A)\n",
    "print(np.power(A, 2))"
   ]
  },
  {
   "cell_type": "code",
   "execution_count": 5,
   "metadata": {},
   "outputs": [
    {
     "name": "stdout",
     "output_type": "stream",
     "text": [
      "[0.000e+00 3.420e-01 6.431e-01 8.657e-01 9.849e-01 9.849e-01 8.662e-01\n",
      " 6.431e-01 3.416e-01 9.675e-04]\n"
     ]
    }
   ],
   "source": [
    "A = np.linspace(0, np.pi, 10)\n",
    "B = np.sin(A, dtype='float16')\n",
    "print(B)"
   ]
  },
  {
   "cell_type": "code",
   "execution_count": 6,
   "metadata": {},
   "outputs": [
    {
     "name": "stdout",
     "output_type": "stream",
     "text": [
      "0.000 0.342 0.643 0.866 0.985 0.985 0.866 0.643 0.342 0.000\n"
     ]
    }
   ],
   "source": [
    "B = np.sin(A)\n",
    "print(' '.join(format(x, '5.3f') for x in B))"
   ]
  },
  {
   "cell_type": "markdown",
   "metadata": {},
   "source": [
    "## 13.3 numpy와 matplotlib으로 그래프 선 그리기"
   ]
  },
  {
   "cell_type": "code",
   "execution_count": 7,
   "metadata": {},
   "outputs": [],
   "source": [
    "import numpy as np\n",
    "import matplotlib.pyplot as plt"
   ]
  },
  {
   "cell_type": "code",
   "execution_count": 8,
   "metadata": {},
   "outputs": [
    {
     "data": {
      "image/png": "[encoded data removed]",
      "text/plain": [
       "<Figure size 432x288 with 1 Axes>"
      ]
     },
     "metadata": {
      "needs_background": "light"
     },
     "output_type": "display_data"
    }
   ],
   "source": [
    "A = np.linspace(0, 2 * np.pi)\n",
    "plt.plot(A, np.sin(A))\n",
    "plt.show()"
   ]
  },
  {
   "cell_type": "code",
   "execution_count": 9,
   "metadata": {},
   "outputs": [
    {
     "data": {
      "image/png": "[encoded data removed]",
      "text/plain": [
       "<Figure size 432x288 with 1 Axes>"
      ]
     },
     "metadata": {
      "needs_background": "light"
     },
     "output_type": "display_data"
    }
   ],
   "source": [
    "A = np.linspace(0, 2 * np.pi)\n",
    "plt.plot(A, np.cos(A))\n",
    "plt.show()"
   ]
  },
  {
   "cell_type": "code",
   "execution_count": 10,
   "metadata": {},
   "outputs": [
    {
     "data": {
      "text/plain": [
       "array([ 0.1       ,  0.30204082,  0.50408163,  0.70612245,  0.90816327,\n",
       "        1.11020408,  1.3122449 ,  1.51428571,  1.71632653,  1.91836735,\n",
       "        2.12040816,  2.32244898,  2.5244898 ,  2.72653061,  2.92857143,\n",
       "        3.13061224,  3.33265306,  3.53469388,  3.73673469,  3.93877551,\n",
       "        4.14081633,  4.34285714,  4.54489796,  4.74693878,  4.94897959,\n",
       "        5.15102041,  5.35306122,  5.55510204,  5.75714286,  5.95918367,\n",
       "        6.16122449,  6.36326531,  6.56530612,  6.76734694,  6.96938776,\n",
       "        7.17142857,  7.37346939,  7.5755102 ,  7.77755102,  7.97959184,\n",
       "        8.18163265,  8.38367347,  8.58571429,  8.7877551 ,  8.98979592,\n",
       "        9.19183673,  9.39387755,  9.59591837,  9.79795918, 10.        ])"
      ]
     },
     "execution_count": 10,
     "metadata": {},
     "output_type": "execute_result"
    }
   ],
   "source": [
    "A = np.linspace(0.1, 10)\n",
    "A"
   ]
  },
  {
   "cell_type": "code",
   "execution_count": 11,
   "metadata": {},
   "outputs": [
    {
     "data": {
      "image/png": "[encoded data removed]",
      "text/plain": [
       "<Figure size 432x288 with 1 Axes>"
      ]
     },
     "metadata": {
      "needs_background": "light"
     },
     "output_type": "display_data"
    }
   ],
   "source": [
    "plt.plot(A, 1/A)\n",
    "plt.show()"
   ]
  },
  {
   "cell_type": "code",
   "execution_count": 12,
   "metadata": {},
   "outputs": [
    {
     "data": {
      "text/plain": [
       "[<matplotlib.lines.Line2D at 0x2a8d64c1580>]"
      ]
     },
     "execution_count": 12,
     "metadata": {},
     "output_type": "execute_result"
    },
    {
     "data": {
      "image/png": "[encoded data removed]",
      "text/plain": [
       "<Figure size 432x288 with 1 Axes>"
      ]
     },
     "metadata": {
      "needs_background": "light"
     },
     "output_type": "display_data"
    }
   ],
   "source": [
    "plt.plot([0, 1, 2, 3, 4], [1, 2, 4, 5, 3])"
   ]
  },
  {
   "cell_type": "code",
   "execution_count": 13,
   "metadata": {},
   "outputs": [
    {
     "data": {
      "text/plain": [
       "[<matplotlib.lines.Line2D at 0x2a8d651ba60>]"
      ]
     },
     "execution_count": 13,
     "metadata": {},
     "output_type": "execute_result"
    },
    {
     "data": {
      "image/png": "[encoded data removed]",
      "text/plain": [
       "<Figure size 432x288 with 1 Axes>"
      ]
     },
     "metadata": {
      "needs_background": "light"
     },
     "output_type": "display_data"
    }
   ],
   "source": [
    "plt.plot([1, 2, 4, 5, 3])"
   ]
  },
  {
   "cell_type": "code",
   "execution_count": 14,
   "metadata": {},
   "outputs": [
    {
     "data": {
      "text/plain": [
       "[<matplotlib.lines.Line2D at 0x2a8d65832b0>]"
      ]
     },
     "execution_count": 14,
     "metadata": {},
     "output_type": "execute_result"
    },
    {
     "data": {
      "image/png": "[encoded data removed]",
      "text/plain": [
       "<Figure size 432x288 with 1 Axes>"
      ]
     },
     "metadata": {
      "needs_background": "light"
     },
     "output_type": "display_data"
    }
   ],
   "source": [
    "plt.plot([3, 4, 1, 5, 2, 3], [4, 1, 3, 3, 1, 4])"
   ]
  },
  {
   "cell_type": "code",
   "execution_count": 15,
   "metadata": {},
   "outputs": [
    {
     "data": {
      "image/png": "[encoded data removed]",
      "text/plain": [
       "<Figure size 432x288 with 1 Axes>"
      ]
     },
     "metadata": {
      "needs_background": "light"
     },
     "output_type": "display_data"
    }
   ],
   "source": [
    "A = np.linspace(-15, 20)\n",
    "plt.plot(A, A ** 3 - (15 * A ** 2) + 25)\n",
    "plt.show()"
   ]
  },
  {
   "cell_type": "markdown",
   "metadata": {},
   "source": [
    "## 13.4 여러 선 그래프 그리기"
   ]
  },
  {
   "cell_type": "code",
   "execution_count": 16,
   "metadata": {},
   "outputs": [
    {
     "data": {
      "image/png": "[encoded data removed]",
      "text/plain": [
       "<Figure size 432x288 with 1 Axes>"
      ]
     },
     "metadata": {
      "needs_background": "light"
     },
     "output_type": "display_data"
    }
   ],
   "source": [
    "import numpy as np\n",
    "import matplotlib.pyplot as plt\n",
    "\n",
    "A = np.linspace(0, 2 * np.pi)\n",
    "plt.plot(A, np.sin(A))\n",
    "plt.plot(A, np.cos(A))\n",
    "plt.show()"
   ]
  },
  {
   "cell_type": "code",
   "execution_count": 17,
   "metadata": {},
   "outputs": [
    {
     "data": {
      "text/plain": [
       "[<matplotlib.lines.Line2D at 0x2a8d6691880>,\n",
       " <matplotlib.lines.Line2D at 0x2a8d6691970>]"
      ]
     },
     "execution_count": 17,
     "metadata": {},
     "output_type": "execute_result"
    },
    {
     "data": {
      "image/png": "[encoded data removed]",
      "text/plain": [
       "<Figure size 432x288 with 1 Axes>"
      ]
     },
     "metadata": {
      "needs_background": "light"
     },
     "output_type": "display_data"
    }
   ],
   "source": [
    "plt.plot(A, np.sin(A), A, np.cos(A))"
   ]
  },
  {
   "cell_type": "code",
   "execution_count": 18,
   "metadata": {},
   "outputs": [
    {
     "data": {
      "image/png": "[encoded data removed]",
      "text/plain": [
       "<Figure size 432x288 with 1 Axes>"
      ]
     },
     "metadata": {
      "needs_background": "light"
     },
     "output_type": "display_data"
    }
   ],
   "source": [
    "plt.plot(A, np.sin(A), A, np.cos(A), 'o')\n",
    "plt.show()"
   ]
  },
  {
   "cell_type": "code",
   "execution_count": 19,
   "metadata": {},
   "outputs": [
    {
     "data": {
      "image/png": "[encoded data removed]",
      "text/plain": [
       "<Figure size 432x288 with 1 Axes>"
      ]
     },
     "metadata": {
      "needs_background": "light"
     },
     "output_type": "display_data"
    }
   ],
   "source": [
    "plt.plot(A, np.sin(A), '^', A, np.cos(A), 'o')\n",
    "plt.title('Sine and Cosine')\n",
    "plt.xlabel('X Axis')\n",
    "plt.ylabel('Y Axis')\n",
    "plt.show()"
   ]
  },
  {
   "cell_type": "markdown",
   "metadata": {},
   "source": [
    "## 13.5 복리 그래프 그리기"
   ]
  },
  {
   "cell_type": "code",
   "execution_count": 20,
   "metadata": {},
   "outputs": [
    {
     "data": {
      "text/plain": [
       "array([ 0.        ,  1.01694915,  2.03389831,  3.05084746,  4.06779661,\n",
       "        5.08474576,  6.10169492,  7.11864407,  8.13559322,  9.15254237,\n",
       "       10.16949153, 11.18644068, 12.20338983, 13.22033898, 14.23728814,\n",
       "       15.25423729, 16.27118644, 17.28813559, 18.30508475, 19.3220339 ,\n",
       "       20.33898305, 21.3559322 , 22.37288136, 23.38983051, 24.40677966,\n",
       "       25.42372881, 26.44067797, 27.45762712, 28.47457627, 29.49152542,\n",
       "       30.50847458, 31.52542373, 32.54237288, 33.55932203, 34.57627119,\n",
       "       35.59322034, 36.61016949, 37.62711864, 38.6440678 , 39.66101695,\n",
       "       40.6779661 , 41.69491525, 42.71186441, 43.72881356, 44.74576271,\n",
       "       45.76271186, 46.77966102, 47.79661017, 48.81355932, 49.83050847,\n",
       "       50.84745763, 51.86440678, 52.88135593, 53.89830508, 54.91525424,\n",
       "       55.93220339, 56.94915254, 57.96610169, 58.98305085, 60.        ])"
      ]
     },
     "execution_count": 20,
     "metadata": {},
     "output_type": "execute_result"
    }
   ],
   "source": [
    "A = np.linspace(0, 60, 60)\n",
    "A"
   ]
  },
  {
   "cell_type": "code",
   "execution_count": 21,
   "metadata": {},
   "outputs": [
    {
     "data": {
      "text/plain": [
       "array([  0.        ,   2.03389831,   4.06779661,   6.10169492,\n",
       "         8.13559322,  10.16949153,  12.20338983,  14.23728814,\n",
       "        16.27118644,  18.30508475,  20.33898305,  22.37288136,\n",
       "        24.40677966,  26.44067797,  28.47457627,  30.50847458,\n",
       "        32.54237288,  34.57627119,  36.61016949,  38.6440678 ,\n",
       "        40.6779661 ,  42.71186441,  44.74576271,  46.77966102,\n",
       "        48.81355932,  50.84745763,  52.88135593,  54.91525424,\n",
       "        56.94915254,  58.98305085,  61.01694915,  63.05084746,\n",
       "        65.08474576,  67.11864407,  69.15254237,  71.18644068,\n",
       "        73.22033898,  75.25423729,  77.28813559,  79.3220339 ,\n",
       "        81.3559322 ,  83.38983051,  85.42372881,  87.45762712,\n",
       "        89.49152542,  91.52542373,  93.55932203,  95.59322034,\n",
       "        97.62711864,  99.66101695, 101.69491525, 103.72881356,\n",
       "       105.76271186, 107.79661017, 109.83050847, 111.86440678,\n",
       "       113.89830508, 115.93220339, 117.96610169, 120.        ])"
      ]
     },
     "execution_count": 21,
     "metadata": {},
     "output_type": "execute_result"
    }
   ],
   "source": [
    "2 * A \t\t\t# 매년 2달러 증가 공식"
   ]
  },
  {
   "cell_type": "code",
   "execution_count": 22,
   "metadata": {},
   "outputs": [
    {
     "data": {
      "text/plain": [
       "array([  1.        ,   1.10177841,   1.21391565,   1.33746605,\n",
       "         1.47359122,   1.62357098,   1.78881545,   1.97087823,\n",
       "         2.17147108,   2.39247994,   2.63598273,   2.90426885,\n",
       "         3.1998607 ,   3.52553742,   3.884361  ,   4.27970507,\n",
       "         4.71528663,   5.19520098,   5.72396026,   6.30653581,\n",
       "         6.94840496,   7.65560254,   8.43477756,   9.29325577,\n",
       "        10.23910853,  11.28122867,  12.42941413,  13.69446008,\n",
       "        15.0882604 ,  16.62391948,  18.3158755 ,  20.1800361 ,\n",
       "        22.233928  ,  24.49686174,  26.99011327,  29.73712396,\n",
       "        32.76372102,  36.09836031,  39.77239386,  43.82036469,\n",
       "        48.28033154,  53.1942267 ,  58.60825028,  64.57330454,\n",
       "        71.14547251,  78.38654527,  86.36460286,  95.15465443,\n",
       "       104.83934343, 115.50972464, 127.26612024, 140.21906303,\n",
       "       154.49033569, 170.21411572, 187.53823701, 206.62557975,\n",
       "       227.65560179, 250.82602595, 276.35469893, 304.48163954])"
      ]
     },
     "execution_count": 22,
     "metadata": {},
     "output_type": "execute_result"
    }
   ],
   "source": [
    "1.1 ** A \t\t# 매년 10% 증가 공식"
   ]
  },
  {
   "cell_type": "code",
   "execution_count": 23,
   "metadata": {},
   "outputs": [
    {
     "data": {
      "text/plain": [
       "[<matplotlib.lines.Line2D at 0x2a8d67afa00>,\n",
       " <matplotlib.lines.Line2D at 0x2a8d67afa30>]"
      ]
     },
     "execution_count": 23,
     "metadata": {},
     "output_type": "execute_result"
    },
    {
     "data": {
      "image/png": "[encoded data removed]",
      "text/plain": [
       "<Figure size 432x288 with 1 Axes>"
      ]
     },
     "metadata": {
      "needs_background": "light"
     },
     "output_type": "display_data"
    }
   ],
   "source": [
    "plt.plot(A, 2 * A, 'o', A, 1.1 ** A)"
   ]
  },
  {
   "cell_type": "code",
   "execution_count": 24,
   "metadata": {},
   "outputs": [
    {
     "data": {
      "text/plain": [
       "[<matplotlib.lines.Line2D at 0x2a8d67cdc40>]"
      ]
     },
     "execution_count": 24,
     "metadata": {},
     "output_type": "execute_result"
    },
    {
     "data": {
      "image/png": "[encoded data removed]",
      "text/plain": [
       "<Figure size 432x288 with 1 Axes>"
      ]
     },
     "metadata": {
      "needs_background": "light"
     },
     "output_type": "display_data"
    }
   ],
   "source": [
    "plt.plot(A, 2 * A, 'o') \t\t# 매년 2 달러씩 증가 (원으로 그림)\n",
    "plt.plot(A, 1.1 ** A) \t\t    # 매년 복리 10%"
   ]
  },
  {
   "cell_type": "code",
   "execution_count": 25,
   "metadata": {},
   "outputs": [
    {
     "data": {
      "image/png": "[encoded data removed]",
      "text/plain": [
       "<Figure size 432x288 with 1 Axes>"
      ]
     },
     "metadata": {
      "needs_background": "light"
     },
     "output_type": "display_data"
    }
   ],
   "source": [
    "plt.plot(A, 2 * A, 'o') \t\t# 매년 2 달러씩 증가 (원으로 그림)\n",
    "plt.plot(A, 1.1 ** A) \t\t    # 매년 복리 10%\n",
    "plt.title('Compounded Interest v. Linear')\n",
    "plt.xlabel('Years')\n",
    "plt.ylabel('Value of Funds')\n",
    "plt.show()"
   ]
  },
  {
   "cell_type": "markdown",
   "metadata": {},
   "source": [
    "## 13.6\tmatplotlib으로 히스토그램 만들기"
   ]
  },
  {
   "cell_type": "code",
   "execution_count": 26,
   "metadata": {},
   "outputs": [],
   "source": [
    "IQ_list = [91, 110, 105, 107, 135, 127, 92, 111, 105,\n",
    "    106, 130, 145, 145, 128, 109, 108, 98, 129, 100,\n",
    "    108, 114, 119, 99, 137, 142, 145, 112, 113 ]"
   ]
  },
  {
   "cell_type": "code",
   "execution_count": 27,
   "metadata": {},
   "outputs": [],
   "source": [
    "import numpy as np\n",
    "import matplotlib.pyplot as plt\n",
    "\n",
    "IQ_A = np.array(IQ_list)"
   ]
  },
  {
   "cell_type": "code",
   "execution_count": 28,
   "metadata": {},
   "outputs": [
    {
     "data": {
      "image/png": "[encoded data removed]",
      "text/plain": [
       "<Figure size 432x288 with 1 Axes>"
      ]
     },
     "metadata": {
      "needs_background": "light"
     },
     "output_type": "display_data"
    }
   ],
   "source": [
    "plt.hist(IQ_A)\n",
    "plt.show()"
   ]
  },
  {
   "cell_type": "code",
   "execution_count": 29,
   "metadata": {},
   "outputs": [
    {
     "data": {
      "image/png": "[encoded data removed]",
      "text/plain": [
       "<Figure size 432x288 with 1 Axes>"
      ]
     },
     "metadata": {
      "needs_background": "light"
     },
     "output_type": "display_data"
    }
   ],
   "source": [
    "plt.hist(IQ_A)\n",
    "plt.title('IQ Distribution of Development Team.')\n",
    "plt.show()"
   ]
  },
  {
   "cell_type": "code",
   "execution_count": 30,
   "metadata": {},
   "outputs": [
    {
     "data": {
      "text/plain": [
       "(array([2., 1., 1., 1., 1., 2., 1., 1., 1., 1., 1., 2., 1., 1., 1., 1., 2.,\n",
       "        1., 1., 1., 1., 1., 2., 1., 1., 1., 1., 2., 1., 1., 1., 1., 1., 2.,\n",
       "        1., 1., 1., 1., 2., 1., 1., 1., 1., 1., 2., 1., 1., 1., 1., 2.]),\n",
       " array([ 0. ,  1.2,  2.4,  3.6,  4.8,  6. ,  7.2,  8.4,  9.6, 10.8, 12. ,\n",
       "        13.2, 14.4, 15.6, 16.8, 18. , 19.2, 20.4, 21.6, 22.8, 24. , 25.2,\n",
       "        26.4, 27.6, 28.8, 30. , 31.2, 32.4, 33.6, 34.8, 36. , 37.2, 38.4,\n",
       "        39.6, 40.8, 42. , 43.2, 44.4, 45.6, 46.8, 48. , 49.2, 50.4, 51.6,\n",
       "        52.8, 54. , 55.2, 56.4, 57.6, 58.8, 60. ]),\n",
       " <a list of 50 Patch objects>)"
      ]
     },
     "execution_count": 30,
     "metadata": {},
     "output_type": "execute_result"
    },
    {
     "data": {
      "image/png": "[encoded data removed]",
      "text/plain": [
       "<Figure size 432x288 with 1 Axes>"
      ]
     },
     "metadata": {
      "needs_background": "light"
     },
     "output_type": "display_data"
    }
   ],
   "source": [
    "plt.hist(A, bins=50) \t# 결과를 50개의 통에 넣어라."
   ]
  },
  {
   "cell_type": "code",
   "execution_count": 31,
   "metadata": {},
   "outputs": [
    {
     "name": "stdout",
     "output_type": "stream",
     "text": [
      "Help on function hist in module matplotlib.pyplot:\n",
      "\n",
      "hist(x, bins=None, range=None, density=False, weights=None, cumulative=False, bottom=None, histtype='bar', align='mid', orientation='vertical', rwidth=None, log=False, color=None, label=None, stacked=False, *, data=None, **kwargs)\n",
      "    Plot a histogram.\n",
      "    \n",
      "    Compute and draw the histogram of *x*.  The return value is a tuple\n",
      "    (*n*, *bins*, *patches*) or ([*n0*, *n1*, ...], *bins*, [*patches0*,\n",
      "    *patches1*,...]) if the input contains multiple data.  See the\n",
      "    documentation of the *weights* parameter to draw a histogram of\n",
      "    already-binned data.\n",
      "    \n",
      "    Multiple data can be provided via *x* as a list of datasets\n",
      "    of potentially different length ([*x0*, *x1*, ...]), or as\n",
      "    a 2-D ndarray in which each column is a dataset.  Note that\n",
      "    the ndarray form is transposed relative to the list form.\n",
      "    \n",
      "    Masked arrays are not supported.\n",
      "    \n",
      "    The *bins*, *range*, *weights*, and *density* parameters behave as in\n",
      "    `numpy.histogram`.\n",
      "    \n",
      "    Parameters\n",
      "    ----------\n",
      "    x : (n,) array or sequence of (n,) arrays\n",
      "        Input values, this takes either a single array or a sequence of\n",
      "        arrays which are not required to be of the same length.\n",
      "    \n",
      "    bins : int or sequence or str, optional\n",
      "        If *bins* is an integer, it defines the number of equal-width bins\n",
      "        in the range.\n",
      "    \n",
      "        If *bins* is a sequence, it defines the bin edges, including the\n",
      "        left edge of the first bin and the right edge of the last bin;\n",
      "        in this case, bins may be unequally spaced.  All but the last\n",
      "        (righthand-most) bin is half-open.  In other words, if *bins* is::\n",
      "    \n",
      "            [1, 2, 3, 4]\n",
      "    \n",
      "        then the first bin is ``[1, 2)`` (including 1, but excluding 2) and\n",
      "        the second ``[2, 3)``.  The last bin, however, is ``[3, 4]``, which\n",
      "        *includes* 4.\n",
      "    \n",
      "        If *bins* is a string, it is one of the binning strategies\n",
      "        supported by `numpy.histogram_bin_edges`: 'auto', 'fd', 'doane',\n",
      "        'scott', 'stone', 'rice', 'sturges', or 'sqrt'.\n",
      "    \n",
      "        The default is :rc:`hist.bins`.\n",
      "    \n",
      "    range : tuple or None, optional\n",
      "        The lower and upper range of the bins. Lower and upper outliers\n",
      "        are ignored. If not provided, *range* is ``(x.min(), x.max())``.\n",
      "        Range has no effect if *bins* is a sequence.\n",
      "    \n",
      "        If *bins* is a sequence or *range* is specified, autoscaling\n",
      "        is based on the specified bin range instead of the\n",
      "        range of x.\n",
      "    \n",
      "        Default is ``None``\n",
      "    \n",
      "    density : bool, optional\n",
      "        If ``True``, the first element of the return tuple will\n",
      "        be the counts normalized to form a probability density, i.e.,\n",
      "        the area (or integral) under the histogram will sum to 1.\n",
      "        This is achieved by dividing the count by the number of\n",
      "        observations times the bin width and not dividing by the total\n",
      "        number of observations. If *stacked* is also ``True``, the sum of\n",
      "        the histograms is normalized to 1.\n",
      "    \n",
      "        Default is ``False``.\n",
      "    \n",
      "    weights : (n, ) array-like or None, optional\n",
      "        An array of weights, of the same shape as *x*.  Each value in *x*\n",
      "        only contributes its associated weight towards the bin count\n",
      "        (instead of 1).  If *normed* or *density* is ``True``,\n",
      "        the weights are normalized, so that the integral of the density\n",
      "        over the range remains 1.\n",
      "    \n",
      "        Default is ``None``.\n",
      "    \n",
      "        This parameter can be used to draw a histogram of data that has\n",
      "        already been binned, e.g. using `np.histogram` (by treating each\n",
      "        bin as a single point with a weight equal to its count) ::\n",
      "    \n",
      "            counts, bins = np.histogram(data)\n",
      "            plt.hist(bins[:-1], bins, weights=counts)\n",
      "    \n",
      "        (or you may alternatively use `~.bar()`).\n",
      "    \n",
      "    cumulative : bool or -1, optional\n",
      "        If ``True``, then a histogram is computed where each bin gives the\n",
      "        counts in that bin plus all bins for smaller values. The last bin\n",
      "        gives the total number of datapoints.\n",
      "    \n",
      "        If *density* is also ``True`` then the histogram is normalized such\n",
      "        that the last bin equals 1.\n",
      "    \n",
      "        If *cumulative* is a number less than 0 (e.g., -1), the direction\n",
      "        of accumulation is reversed.  In this case, if *density* is also\n",
      "        ``True``, then the histogram is normalized such that the first bin\n",
      "        equals 1.\n",
      "    \n",
      "    bottom : array-like, scalar, or None, default: None\n",
      "        Location of the bottom of each bin, ie. bins are drawn from\n",
      "        ``bottom`` to ``bottom + hist(x, bins)`` If a scalar, the bottom\n",
      "        of each bin is shifted by the same amount. If an array, each bin\n",
      "        is shifted independently and the length of bottom must match the\n",
      "        number of bins. If None, defaults to 0.\n",
      "    \n",
      "    histtype : {'bar', 'barstacked', 'step',  'stepfilled'}, optional\n",
      "        The type of histogram to draw.\n",
      "    \n",
      "        - 'bar' is a traditional bar-type histogram.  If multiple data\n",
      "          are given the bars are arranged side by side.\n",
      "        - 'barstacked' is a bar-type histogram where multiple\n",
      "          data are stacked on top of each other.\n",
      "        - 'step' generates a lineplot that is by default unfilled.\n",
      "        - 'stepfilled' generates a lineplot that is by default filled.\n",
      "    \n",
      "        Default is 'bar'\n",
      "    \n",
      "    align : {'left', 'mid', 'right'}, optional\n",
      "        Controls how the histogram is plotted.\n",
      "    \n",
      "        - 'left': bars are centered on the left bin edges.\n",
      "        - 'mid': bars are centered between the bin edges.\n",
      "        - 'right': bars are centered on the right bin edges.\n",
      "    \n",
      "        Default is 'mid'\n",
      "    \n",
      "    orientation : {'horizontal', 'vertical'}, optional\n",
      "        If 'horizontal', `~matplotlib.pyplot.barh` will be used for\n",
      "        bar-type histograms and the *bottom* kwarg will be the left edges.\n",
      "    \n",
      "    rwidth : scalar or None, optional\n",
      "        The relative width of the bars as a fraction of the bin width.  If\n",
      "        ``None``, automatically compute the width.\n",
      "    \n",
      "        Ignored if *histtype* is 'step' or 'stepfilled'.\n",
      "    \n",
      "        Default is ``None``\n",
      "    \n",
      "    log : bool, optional\n",
      "        If ``True``, the histogram axis will be set to a log scale. If\n",
      "        *log* is ``True`` and *x* is a 1D array, empty bins will be\n",
      "        filtered out and only the non-empty ``(n, bins, patches)``\n",
      "        will be returned.\n",
      "    \n",
      "        Default is ``False``\n",
      "    \n",
      "    color : color or array-like of colors or None, optional\n",
      "        Color or sequence of colors, one per dataset.  Default (``None``)\n",
      "        uses the standard line color sequence.\n",
      "    \n",
      "        Default is ``None``\n",
      "    \n",
      "    label : str or None, optional\n",
      "        String, or sequence of strings to match multiple datasets.  Bar\n",
      "        charts yield multiple patches per dataset, but only the first gets\n",
      "        the label, so that the legend command will work as expected.\n",
      "    \n",
      "        default is ``None``\n",
      "    \n",
      "    stacked : bool, optional\n",
      "        If ``True``, multiple data are stacked on top of each other If\n",
      "        ``False`` multiple data are arranged side by side if histtype is\n",
      "        'bar' or on top of each other if histtype is 'step'\n",
      "    \n",
      "        Default is ``False``\n",
      "    \n",
      "    Returns\n",
      "    -------\n",
      "    n : array or list of arrays\n",
      "        The values of the histogram bins. See *density* and *weights* for a\n",
      "        description of the possible semantics.  If input *x* is an array,\n",
      "        then this is an array of length *nbins*. If input is a sequence of\n",
      "        arrays ``[data1, data2, ...]``, then this is a list of arrays with\n",
      "        the values of the histograms for each of the arrays in the same\n",
      "        order.  The dtype of the array *n* (or of its element arrays) will\n",
      "        always be float even if no weighting or normalization is used.\n",
      "    \n",
      "    bins : array\n",
      "        The edges of the bins. Length nbins + 1 (nbins left edges and right\n",
      "        edge of last bin).  Always a single array even when multiple data\n",
      "        sets are passed in.\n",
      "    \n",
      "    patches : list or list of lists\n",
      "        Silent list of individual patches used to create the histogram\n",
      "        or list of such list if multiple input datasets.\n",
      "    \n",
      "    Other Parameters\n",
      "    ----------------\n",
      "    **kwargs : `~matplotlib.patches.Patch` properties\n",
      "    \n",
      "    See also\n",
      "    --------\n",
      "    hist2d : 2D histograms\n",
      "    \n",
      "    Notes\n",
      "    -----\n",
      "    \n",
      "    \n",
      "    .. note::\n",
      "        In addition to the above described arguments, this function can take a\n",
      "        **data** keyword argument. If such a **data** argument is given, the\n",
      "        following arguments are replaced by **data[<arg>]**:\n",
      "    \n",
      "        * All arguments with the following names: 'weights', 'x'.\n",
      "    \n",
      "        Objects passed as **data** must support item access (``data[<arg>]``) and\n",
      "        membership test (``<arg> in data``).\n",
      "\n"
     ]
    }
   ],
   "source": [
    "help(plt.hist)"
   ]
  },
  {
   "cell_type": "code",
   "execution_count": 32,
   "metadata": {},
   "outputs": [],
   "source": [
    "A = np.random.standard_normal(200000)\n",
    "A = A * 10 + 100"
   ]
  },
  {
   "cell_type": "code",
   "execution_count": 33,
   "metadata": {},
   "outputs": [
    {
     "data": {
      "image/png": "[encoded data removed]",
      "text/plain": [
       "<Figure size 432x288 with 1 Axes>"
      ]
     },
     "metadata": {
      "needs_background": "light"
     },
     "output_type": "display_data"
    }
   ],
   "source": [
    "plt.hist(A, bins=80, color='g')\n",
    "plt.title('Normal Distribution in 80 Bins')\n",
    "plt.show()"
   ]
  },
  {
   "cell_type": "code",
   "execution_count": 34,
   "metadata": {},
   "outputs": [
    {
     "data": {
      "image/png": "[encoded data removed]",
      "text/plain": [
       "<Figure size 432x288 with 1 Axes>"
      ]
     },
     "metadata": {
      "needs_background": "light"
     },
     "output_type": "display_data"
    }
   ],
   "source": [
    "import numpy as np\n",
    "import matplotlib.pyplot as plt\n",
    "\n",
    "A = np.random.standard_normal(2000000)\n",
    "A = A * 10 + 100\n",
    "B = np.histogram(A, 50)[0]\n",
    "plt.plot(B)\n",
    "plt.show()"
   ]
  },
  {
   "cell_type": "code",
   "execution_count": 35,
   "metadata": {},
   "outputs": [
    {
     "data": {
      "image/png": "[encoded data removed]",
      "text/plain": [
       "<Figure size 432x288 with 1 Axes>"
      ]
     },
     "metadata": {
      "needs_background": "light"
     },
     "output_type": "display_data"
    }
   ],
   "source": [
    "import numpy as np\n",
    "import matplotlib.pyplot as plt\n",
    "\n",
    "A = np.random.standard_normal(2000000)\n",
    "A = A * 10 + 100\n",
    "B, X = np.histogram(A, 50)\n",
    "X = (X[1:]+X[:-1])/2 \t# 경계 대신 통의 중간 값을 사용한다.\n",
    "plt.plot(X, B) \t\t    # 통 숫자 대신 값으로\n",
    "plt.show() \t\t        # 그래프를 표현한다.\n"
   ]
  },
  {
   "cell_type": "code",
   "execution_count": 36,
   "metadata": {},
   "outputs": [
    {
     "name": "stdout",
     "output_type": "stream",
     "text": [
      " histogram(*args, **kwargs)\n",
      "\n",
      "Compute the histogram of a set of data.\n",
      "\n",
      "Parameters\n",
      "----------\n",
      "a : array_like\n",
      "    Input data. The histogram is computed over the flattened array.\n",
      "bins : int or sequence of scalars or str, optional\n",
      "    If `bins` is an int, it defines the number of equal-width\n",
      "    bins in the given range (10, by default). If `bins` is a\n",
      "    sequence, it defines a monotonically increasing array of bin edges,\n",
      "    including the rightmost edge, allowing for non-uniform bin widths.\n",
      "\n",
      "    .. versionadded:: 1.11.0\n",
      "\n",
      "    If `bins` is a string, it defines the method used to calculate the\n",
      "    optimal bin width, as defined by `histogram_bin_edges`.\n",
      "\n",
      "range : (float, float), optional\n",
      "    The lower and upper range of the bins.  If not provided, range\n",
      "    is simply ``(a.min(), a.max())``.  Values outside the range are\n",
      "    ignored. The first element of the range must be less than or\n",
      "    equal to the second. `range` affects the automatic bin\n",
      "    computation as well. While bin width is computed to be optimal\n",
      "    based on the actual data within `range`, the bin count will fill\n",
      "    the entire range including portions containing no data.\n",
      "normed : bool, optional\n",
      "\n",
      "    .. deprecated:: 1.6.0\n",
      "\n",
      "    This is equivalent to the `density` argument, but produces incorrect\n",
      "    results for unequal bin widths. It should not be used.\n",
      "\n",
      "    .. versionchanged:: 1.15.0\n",
      "        DeprecationWarnings are actually emitted.\n",
      "\n",
      "weights : array_like, optional\n",
      "    An array of weights, of the same shape as `a`.  Each value in\n",
      "    `a` only contributes its associated weight towards the bin count\n",
      "    (instead of 1). If `density` is True, the weights are\n",
      "    normalized, so that the integral of the density over the range\n",
      "    remains 1.\n",
      "density : bool, optional\n",
      "    If ``False``, the result will contain the number of samples in\n",
      "    each bin. If ``True``, the result is the value of the\n",
      "    probability *density* function at the bin, normalized such that\n",
      "    the *integral* over the range is 1. Note that the sum of the\n",
      "    histogram values will not be equal to 1 unless bins of unity\n",
      "    width are chosen; it is not a probability *mass* function.\n",
      "\n",
      "    Overrides the ``normed`` keyword if given.\n",
      "\n",
      "Returns\n",
      "-------\n",
      "hist : array\n",
      "    The values of the histogram. See `density` and `weights` for a\n",
      "    description of the possible semantics.\n",
      "bin_edges : array of dtype float\n",
      "    Return the bin edges ``(length(hist)+1)``.\n",
      "\n",
      "\n",
      "See Also\n",
      "--------\n",
      "histogramdd, bincount, searchsorted, digitize, histogram_bin_edges\n",
      "\n",
      "Notes\n",
      "-----\n",
      "All but the last (righthand-most) bin is half-open.  In other words,\n",
      "if `bins` is::\n",
      "\n",
      "  [1, 2, 3, 4]\n",
      "\n",
      "then the first bin is ``[1, 2)`` (including 1, but excluding 2) and\n",
      "the second ``[2, 3)``.  The last bin, however, is ``[3, 4]``, which\n",
      "*includes* 4.\n",
      "\n",
      "\n",
      "Examples\n",
      "--------\n",
      ">>> np.histogram([1, 2, 1], bins=[0, 1, 2, 3])\n",
      "(array([0, 2, 1]), array([0, 1, 2, 3]))\n",
      ">>> np.histogram(np.arange(4), bins=np.arange(5), density=True)\n",
      "(array([0.25, 0.25, 0.25, 0.25]), array([0, 1, 2, 3, 4]))\n",
      ">>> np.histogram([[1, 2, 1], [1, 0, 1]], bins=[0,1,2,3])\n",
      "(array([1, 4, 1]), array([0, 1, 2, 3]))\n",
      "\n",
      ">>> a = np.arange(5)\n",
      ">>> hist, bin_edges = np.histogram(a, density=True)\n",
      ">>> hist\n",
      "array([0.5, 0. , 0.5, 0. , 0. , 0.5, 0. , 0.5, 0. , 0.5])\n",
      ">>> hist.sum()\n",
      "2.4999999999999996\n",
      ">>> np.sum(hist * np.diff(bin_edges))\n",
      "1.0\n",
      "\n",
      ".. versionadded:: 1.11.0\n",
      "\n",
      "Automated Bin Selection Methods example, using 2 peak random data\n",
      "with 2000 points:\n",
      "\n",
      ">>> import matplotlib.pyplot as plt\n",
      ">>> rng = np.random.RandomState(10)  # deterministic random data\n",
      ">>> a = np.hstack((rng.normal(size=1000),\n",
      "...                rng.normal(loc=5, scale=2, size=1000)))\n",
      ">>> _ = plt.hist(a, bins='auto')  # arguments are passed to np.histogram\n",
      ">>> plt.title(\"Histogram with 'auto' bins\")\n",
      "Text(0.5, 1.0, \"Histogram with 'auto' bins\")\n",
      ">>> plt.show()\n"
     ]
    }
   ],
   "source": [
    "np.info(np.histogram)"
   ]
  },
  {
   "cell_type": "markdown",
   "metadata": {},
   "source": [
    "## 13.7 원과 가로 세로 비율(Aspect Ratio)"
   ]
  },
  {
   "cell_type": "code",
   "execution_count": 37,
   "metadata": {},
   "outputs": [
    {
     "data": {
      "image/png": "[encoded data removed]",
      "text/plain": [
       "<Figure size 432x288 with 1 Axes>"
      ]
     },
     "metadata": {
      "needs_background": "light"
     },
     "output_type": "display_data"
    }
   ],
   "source": [
    "import numpy as np\n",
    "import matplotlib.pyplot as plt\n",
    "\n",
    "theta = np.linspace(0, 2 * np.pi, 1000)\n",
    "plt.plot(np.cos(theta), np.sin(theta))\n",
    "plt.show()"
   ]
  },
  {
   "cell_type": "code",
   "execution_count": 38,
   "metadata": {},
   "outputs": [
    {
     "data": {
      "image/png": "[encoded data removed]",
      "text/plain": [
       "<Figure size 432x288 with 1 Axes>"
      ]
     },
     "metadata": {
      "needs_background": "light"
     },
     "output_type": "display_data"
    }
   ],
   "source": [
    "import numpy as np\n",
    "import matplotlib.pyplot as plt\n",
    "\n",
    "theta = np.linspace(0, 2 * np.pi, 1000)\n",
    "plt.plot(np.cos(theta), np.sin(theta))\n",
    "plt.axis('equal')\n",
    "plt.show()"
   ]
  },
  {
   "cell_type": "markdown",
   "metadata": {},
   "source": [
    "## 13.8\t파이 차트 만들기"
   ]
  },
  {
   "cell_type": "code",
   "execution_count": 39,
   "metadata": {},
   "outputs": [],
   "source": [
    "A_data = [3.7, 2.5, 1.9, 0.5]\n",
    "A_labels = ['Poker', 'Chess', 'Comic Books', 'Exercise']\n",
    "A_colors = ['k', 'g', 'r', 'c']"
   ]
  },
  {
   "cell_type": "code",
   "execution_count": 40,
   "metadata": {},
   "outputs": [
    {
     "data": {
      "image/png": "[encoded data removed]",
      "text/plain": [
       "<Figure size 432x288 with 1 Axes>"
      ]
     },
     "metadata": {},
     "output_type": "display_data"
    }
   ],
   "source": [
    "import numpy as np\n",
    "import matplotlib.pyplot as plt\n",
    "\n",
    "plt.pie(A_data, labels=A_labels, colors=A_colors)\n",
    "plt.title('Relative Hobbies of Dev. Team')\n",
    "plt.axis('equal')\n",
    "plt.show()"
   ]
  },
  {
   "cell_type": "markdown",
   "metadata": {},
   "source": [
    "## 13.9 numpy로 선형 대수 수행하기\n",
    "### 13.9.1\t내적 함수"
   ]
  },
  {
   "cell_type": "code",
   "execution_count": 41,
   "metadata": {},
   "outputs": [
    {
     "name": "stdout",
     "output_type": "stream",
     "text": [
      "[1. 1. 1. 1. 1.] [0 1 2 3 4]\n"
     ]
    }
   ],
   "source": [
    "import numpy as np\n",
    "A = np.ones(5)\n",
    "B = np.arange(5)\n",
    "print(A, B)"
   ]
  },
  {
   "cell_type": "code",
   "execution_count": 42,
   "metadata": {},
   "outputs": [
    {
     "data": {
      "text/plain": [
       "5.0"
      ]
     },
     "execution_count": 42,
     "metadata": {},
     "output_type": "execute_result"
    }
   ],
   "source": [
    "np.dot(A, A)"
   ]
  },
  {
   "cell_type": "code",
   "execution_count": 43,
   "metadata": {},
   "outputs": [
    {
     "data": {
      "text/plain": [
       "10.0"
      ]
     },
     "execution_count": 43,
     "metadata": {},
     "output_type": "execute_result"
    }
   ],
   "source": [
    "np.dot(A, B)"
   ]
  },
  {
   "cell_type": "code",
   "execution_count": 44,
   "metadata": {},
   "outputs": [
    {
     "data": {
      "text/plain": [
       "30"
      ]
     },
     "execution_count": 44,
     "metadata": {},
     "output_type": "execute_result"
    }
   ],
   "source": [
    "np.dot(B, B)"
   ]
  },
  {
   "cell_type": "code",
   "execution_count": 45,
   "metadata": {},
   "outputs": [
    {
     "name": "stdout",
     "output_type": "stream",
     "text": [
      "[[0 1 2]\n",
      " [3 4 5]]\n",
      "\n",
      "[[0 1]\n",
      " [2 3]\n",
      " [4 5]]\n",
      "\n",
      "Dot product:\n",
      " [[10 13]\n",
      " [28 40]]\n"
     ]
    }
   ],
   "source": [
    "A = np.arange(6).reshape(2,3)\n",
    "B = np.arange(6).reshape(3,2)\n",
    "C = np.dot(A, B)\n",
    "print(A, B, sep='\\n\\n')\n",
    "print('\\nDot product:\\n', C)"
   ]
  },
  {
   "cell_type": "code",
   "execution_count": 46,
   "metadata": {},
   "outputs": [
    {
     "name": "stdout",
     "output_type": "stream",
     "text": [
      "[150 205]\n"
     ]
    }
   ],
   "source": [
    "print(np.dot([10, 15, 30], B))"
   ]
  },
  {
   "cell_type": "markdown",
   "metadata": {},
   "source": [
    "### 13.9.2 외적 함수"
   ]
  },
  {
   "cell_type": "code",
   "execution_count": 47,
   "metadata": {},
   "outputs": [
    {
     "name": "stdout",
     "output_type": "stream",
     "text": [
      "[[  0   0   0   0]\n",
      " [100 200 300 400]\n",
      " [200 400 600 800]]\n"
     ]
    }
   ],
   "source": [
    "import numpy as np\n",
    "A = np.array([0, 1, 2])\n",
    "B = np.array([100, 200, 300, 400])\n",
    "print(np.outer(A, B))"
   ]
  },
  {
   "cell_type": "code",
   "execution_count": 48,
   "metadata": {},
   "outputs": [
    {
     "name": "stdout",
     "output_type": "stream",
     "text": [
      "[[ 1  2  3  4  5  6  7  8  9]\n",
      " [ 2  4  6  8 10 12 14 16 18]\n",
      " [ 3  6  9 12 15 18 21 24 27]\n",
      " [ 4  8 12 16 20 24 28 32 36]\n",
      " [ 5 10 15 20 25 30 35 40 45]\n",
      " [ 6 12 18 24 30 36 42 48 54]\n",
      " [ 7 14 21 28 35 42 49 56 63]\n",
      " [ 8 16 24 32 40 48 56 64 72]\n",
      " [ 9 18 27 36 45 54 63 72 81]]\n"
     ]
    }
   ],
   "source": [
    "A = np.arange(1,10)\n",
    "print(np.outer(A, A))"
   ]
  },
  {
   "cell_type": "code",
   "execution_count": 49,
   "metadata": {},
   "outputs": [
    {
     "name": "stdout",
     "output_type": "stream",
     "text": [
      "  1  2  3  4  5  6  7  8  9\n",
      "  2  4  6  8 10 12 14 16 18\n",
      "  3  6  9 12 15 18 21 24 27\n",
      "  4  8 12 16 20 24 28 32 36\n",
      "  5 10 15 20 25 30 35 40 45\n",
      "  6 12 18 24 30 36 42 48 54\n",
      "  7 14 21 28 35 42 49 56 63\n",
      "  8 16 24 32 40 48 56 64 72\n",
      "  9 18 27 36 45 54 63 72 81\n"
     ]
    }
   ],
   "source": [
    "s = str(np.outer(A, A))\n",
    "s = s.replace('[', '')\n",
    "s = s.replace(']', '')\n",
    "print(' ' + s)"
   ]
  },
  {
   "cell_type": "code",
   "execution_count": 50,
   "metadata": {},
   "outputs": [
    {
     "name": "stdout",
     "output_type": "stream",
     "text": [
      "  1  2  3  4  5  6  7  8  9\n",
      "  2  4  6  8 10 12 14 16 18\n",
      "  3  6  9 12 15 18 21 24 27\n",
      "  4  8 12 16 20 24 28 32 36\n",
      "  5 10 15 20 25 30 35 40 45\n",
      "  6 12 18 24 30 36 42 48 54\n",
      "  7 14 21 28 35 42 49 56 63\n",
      "  8 16 24 32 40 48 56 64 72\n",
      "  9 18 27 36 45 54 63 72 81\n"
     ]
    }
   ],
   "source": [
    "s = str(np.outer(A, A))\n",
    "print(' ' + s.replace('[', '').replace(']', ''))"
   ]
  },
  {
   "cell_type": "markdown",
   "metadata": {},
   "source": [
    "## 13.10 3차원 플로팅"
   ]
  },
  {
   "cell_type": "code",
   "execution_count": 51,
   "metadata": {},
   "outputs": [
    {
     "data": {
      "image/png": "[encoded data removed]",
      "text/plain": [
       "<Figure size 432x288 with 1 Axes>"
      ]
     },
     "metadata": {
      "needs_background": "light"
     },
     "output_type": "display_data"
    }
   ],
   "source": [
    "from mpl_toolkits.mplot3d import Axes3D\n",
    "import matplotlib.pyplot as plt\n",
    "import numpy as np\n",
    "\n",
    "fig = plt.figure()\n",
    "ax = fig.add_subplot(111, projection='3d')\n",
    "\n",
    "# 데이터 생성\n",
    "ua = np.linspace(0, 2 * np.pi, 100)\n",
    "va = np.linspace(0, np.pi, 100)\n",
    "X = 10 * np.outer(np.cos(ua), np.sin(va))\n",
    "Y = 10 * np.outer(np.sin(ua), np.sin(va))\n",
    "Z = 10 * np.outer(np.ones(np.size(ua)), np.cos(va))\n",
    "\n",
    "# 표면 그리기\n",
    "ax.plot_surface(X, Y, Z, color='w')\n",
    "plt.show()"
   ]
  },
  {
   "cell_type": "markdown",
   "metadata": {},
   "source": [
    "## 13.11 numpy 금융 애플리케이션"
   ]
  },
  {
   "cell_type": "code",
   "execution_count": 52,
   "metadata": {},
   "outputs": [
    {
     "name": "stderr",
     "output_type": "stream",
     "text": [
      "<ipython-input-52-3aa0aaa798de>:2: DeprecationWarning: numpy.pmt is deprecated and will be removed from NumPy 1.20. Use numpy_financial.pmt instead (https://pypi.org/project/numpy-financial/).\n",
      "  np.pmt(0.065 / 12, 20 * 12, 250000)\n"
     ]
    },
    {
     "data": {
      "text/plain": [
       "-1863.93283878775"
      ]
     },
     "execution_count": 52,
     "metadata": {},
     "output_type": "execute_result"
    }
   ],
   "source": [
    "import numpy as np\n",
    "np.pmt(0.065 / 12, 20 * 12, 250000)"
   ]
  },
  {
   "cell_type": "code",
   "execution_count": 53,
   "metadata": {},
   "outputs": [],
   "source": [
    "import numpy as np\n",
    "def monthly_payment():\n",
    "    '''데이터를 입력받고, np.pmt를 호출하여 \n",
    "    월납입금 계산한다.'''\n",
    "    # 월 이율 계산\n",
    "    s = 'Enter rate as a yearly percentage fig.: '\n",
    "    rate = (float(input(s)) / 100) / 12\n",
    "\n",
    "    # 납입 월 회수 계산\n",
    "    nyears = int(input('Enter number of years: '))\n",
    "    nper = nyears * 12\n",
    "\n",
    "    # 대출금 금액 입력\n",
    "    pv = float(input('Enter amount of loan: '))\n",
    "\n",
    "    # 결과 출력\n",
    "    payment= -1 * np.pmt(rate, nper, pv)\n",
    "    print('The monthly payment is: $%.2f' % payment)"
   ]
  },
  {
   "cell_type": "code",
   "execution_count": 54,
   "metadata": {},
   "outputs": [
    {
     "name": "stdout",
     "output_type": "stream",
     "text": [
      "Enter rate as a yearly percentage fig.: 5.0\n",
      "Enter number of years: 30\n",
      "Enter amount of loan: 155000\n",
      "The monthly payment is: $832.07\n"
     ]
    },
    {
     "name": "stderr",
     "output_type": "stream",
     "text": [
      "<ipython-input-53-c5671eab5a50>:17: DeprecationWarning: numpy.pmt is deprecated and will be removed from NumPy 1.20. Use numpy_financial.pmt instead (https://pypi.org/project/numpy-financial/).\n",
      "  payment= -1 * np.pmt(rate, nper, pv)\n"
     ]
    }
   ],
   "source": [
    "monthly_payment()"
   ]
  },
  {
   "cell_type": "code",
   "execution_count": 55,
   "metadata": {},
   "outputs": [
    {
     "name": "stderr",
     "output_type": "stream",
     "text": [
      "<ipython-input-55-0bd1d894cfc0>:10: DeprecationWarning: numpy.pmt is deprecated and will be removed from NumPy 1.20. Use numpy_financial.pmt instead (https://pypi.org/project/numpy-financial/).\n",
      "  Total = -1 * np.pmt(rate, nper, pv)\n",
      "<ipython-input-55-0bd1d894cfc0>:14: DeprecationWarning: numpy.ppmt is deprecated and will be removed from NumPy 1.20. Use numpy_financial.ppmt instead (https://pypi.org/project/numpy-financial/).\n",
      "  B = -1 * np.ppmt(rate, A, nper, pv) / Total\n"
     ]
    },
    {
     "data": {
      "image/png": "[encoded data removed]",
      "text/plain": [
       "<Figure size 432x288 with 1 Axes>"
      ]
     },
     "metadata": {
      "needs_background": "light"
     },
     "output_type": "display_data"
    }
   ],
   "source": [
    "import numpy as np\n",
    "import matplotlib.pyplot as plt\n",
    "\n",
    "# 기본 매개변수 설정\n",
    "rate = 0.05 / 12 # Assume 5% a year.\n",
    "nper = 30 * 12 # Assume 30 years on loan.\n",
    "pv = 155000 # $155,000 is amount of loan.\n",
    "\n",
    "# 지급 합계 생성\n",
    "Total = -1 * np.pmt(rate, nper, pv)\n",
    "\n",
    "# 합계 대비 월간 지급 비율(A) 그래프 그리기\n",
    "A = np.linspace(0, nper)\n",
    "B = -1 * np.ppmt(rate, A, nper, pv) / Total\n",
    "plt.plot(A, B)\n",
    "\n",
    "# 축 라벨 설정 및 출력\n",
    "plt.xlabel('Months')\n",
    "plt.ylabel('Percentage Applied to Principal')\n",
    "plt.show()"
   ]
  },
  {
   "cell_type": "markdown",
   "metadata": {},
   "source": [
    "## 13.12 xticks과 yticks로 축 조정하기"
   ]
  },
  {
   "cell_type": "code",
   "execution_count": 56,
   "metadata": {},
   "outputs": [
    {
     "name": "stderr",
     "output_type": "stream",
     "text": [
      "<ipython-input-56-7abd3cd0e81a>:10: DeprecationWarning: numpy.pmt is deprecated and will be removed from NumPy 1.20. Use numpy_financial.pmt instead (https://pypi.org/project/numpy-financial/).\n",
      "  Total = -1 * np.pmt(rate, nper, pv)\n",
      "<ipython-input-56-7abd3cd0e81a>:14: DeprecationWarning: numpy.ppmt is deprecated and will be removed from NumPy 1.20. Use numpy_financial.ppmt instead (https://pypi.org/project/numpy-financial/).\n",
      "  B = -1 * np.ppmt(rate, A, nper, pv) / Total\n"
     ]
    },
    {
     "data": {
      "image/png": "[encoded data removed]",
      "text/plain": [
       "<Figure size 432x288 with 1 Axes>"
      ]
     },
     "metadata": {
      "needs_background": "light"
     },
     "output_type": "display_data"
    }
   ],
   "source": [
    "import numpy as np\n",
    "import matplotlib.pyplot as plt\n",
    "\n",
    "# 기본 매개변수 설정\n",
    "rate = 0.05 / 12 # Assume 5% a year.\n",
    "nper = 30 * 12 # Assume 30 years on loan.\n",
    "pv = 155000 # $155,000 is amount of loan.\n",
    "\n",
    "# 지급 합계 생성\n",
    "Total = -1 * np.pmt(rate, nper, pv)\n",
    "\n",
    "# 합계 대비 월간 지급 비율(A) 그래프 그리기\n",
    "A = np.linspace(0, nper)\n",
    "B = -1 * np.ppmt(rate, A, nper, pv) / Total\n",
    "plt.plot(A, B)\n",
    "\n",
    "# 축 라벨 설정 및 출력\n",
    "plt.ylabel('Percentage Applied to Principal')\n",
    "\n",
    "plt.yticks(np.arange(0.0, 1.1, 0.2),\n",
    "           ('0', '20%', '40%','60%', '80%', '100%'))\n",
    "plt.xticks(np.arange(0, 361, 60),\n",
    "        ('2020', '2025', '2030', '2035', '2040',\n",
    "         '2045', '2050') )\n",
    "plt.xlabel('Years')\n",
    "\n",
    "plt.show()"
   ]
  },
  {
   "cell_type": "markdown",
   "metadata": {},
   "source": [
    "## 13.13 numpy 혼합-데이터 레코드"
   ]
  },
  {
   "cell_type": "code",
   "execution_count": 57,
   "metadata": {},
   "outputs": [
    {
     "data": {
      "text/plain": [
       "array(['To', 'be', 'orNotToBe'], dtype='<U9')"
      ]
     },
     "execution_count": 57,
     "metadata": {},
     "output_type": "execute_result"
    }
   ],
   "source": [
    "Words = np.array(('To', 'be', 'orNotToBe'))\n",
    "Words"
   ]
  },
  {
   "cell_type": "code",
   "execution_count": 58,
   "metadata": {},
   "outputs": [
    {
     "data": {
      "text/plain": [
       "'My uncle '"
      ]
     },
     "execution_count": 58,
     "metadata": {},
     "output_type": "execute_result"
    }
   ],
   "source": [
    "Words[0] = 'My uncle is Caesar.'\n",
    "Words[0]"
   ]
  },
  {
   "cell_type": "code",
   "execution_count": 59,
   "metadata": {},
   "outputs": [],
   "source": [
    "Words = np.array(('To', 'be', 'orNotToBe'), dtype = 'U20')"
   ]
  },
  {
   "cell_type": "code",
   "execution_count": 60,
   "metadata": {},
   "outputs": [
    {
     "data": {
      "text/plain": [
       "'My uncle is Caesar.'"
      ]
     },
     "execution_count": 60,
     "metadata": {},
     "output_type": "execute_result"
    }
   ],
   "source": [
    "Words[0] = 'My uncle is Caesar.'\n",
    "Words[0]"
   ]
  },
  {
   "cell_type": "code",
   "execution_count": 61,
   "metadata": {},
   "outputs": [
    {
     "name": "stdout",
     "output_type": "stream",
     "text": [
      "[(12,  33, 'Red') ( 0,   1, 'Blue') (27, 103, 'Yellow') (-1,  -2, 'Blue')]\n"
     ]
    }
   ],
   "source": [
    "X = np.array([(12, 33, 'Red'),\n",
    "        (0, 1, 'Blue'),\n",
    "        (27, 103, 'Yellow'),\n",
    "        (-1, -2, 'Blue') ],\n",
    "    dtype = [('a', 'i4'), ('b', 'i4'), ('color', 'U10')])\n",
    "print(X)"
   ]
  },
  {
   "cell_type": "code",
   "execution_count": 62,
   "metadata": {},
   "outputs": [
    {
     "name": "stdout",
     "output_type": "stream",
     "text": [
      "[12  0 27 -1]\n"
     ]
    }
   ],
   "source": [
    "print(X['a'])"
   ]
  },
  {
   "cell_type": "code",
   "execution_count": 63,
   "metadata": {},
   "outputs": [
    {
     "data": {
      "text/plain": [
       "38"
      ]
     },
     "execution_count": 63,
     "metadata": {},
     "output_type": "execute_result"
    }
   ],
   "source": [
    "A = X['a']\n",
    "np.sum(A)"
   ]
  },
  {
   "cell_type": "code",
   "execution_count": 64,
   "metadata": {},
   "outputs": [
    {
     "data": {
      "text/plain": [
       "4"
      ]
     },
     "execution_count": 64,
     "metadata": {},
     "output_type": "execute_result"
    }
   ],
   "source": [
    "len(A)"
   ]
  },
  {
   "cell_type": "code",
   "execution_count": 65,
   "metadata": {},
   "outputs": [
    {
     "data": {
      "text/plain": [
       "9.5"
      ]
     },
     "execution_count": 65,
     "metadata": {},
     "output_type": "execute_result"
    }
   ],
   "source": [
    "np.mean(A)"
   ]
  },
  {
   "cell_type": "code",
   "execution_count": 66,
   "metadata": {},
   "outputs": [
    {
     "data": {
      "text/plain": [
       "11.324751652906125"
      ]
     },
     "execution_count": 66,
     "metadata": {},
     "output_type": "execute_result"
    }
   ],
   "source": [
    "np.std(A)"
   ]
  },
  {
   "cell_type": "code",
   "execution_count": 67,
   "metadata": {},
   "outputs": [
    {
     "name": "stdout",
     "output_type": "stream",
     "text": [
      "[ 33   1 103  -2]\n"
     ]
    }
   ],
   "source": [
    "B = X['b']\n",
    "print(B)"
   ]
  },
  {
   "cell_type": "code",
   "execution_count": 68,
   "metadata": {},
   "outputs": [
    {
     "name": "stdout",
     "output_type": "stream",
     "text": [
      "['Red' 'Blue' 'Yellow' 'Blue']\n"
     ]
    }
   ],
   "source": [
    "C = X['color']\n",
    "print(C)"
   ]
  },
  {
   "cell_type": "code",
   "execution_count": 69,
   "metadata": {},
   "outputs": [
    {
     "name": "stdout",
     "output_type": "stream",
     "text": [
      "[ 33   1 103  -2]\n",
      "[0 0 0 0]\n"
     ]
    }
   ],
   "source": [
    "print(X['b'])\n",
    "X['b'] = 0\n",
    "print(X['b'])"
   ]
  },
  {
   "cell_type": "markdown",
   "metadata": {},
   "source": [
    "## 13.14 파일에서 numpy 데이터 읽고 쓰기"
   ]
  },
  {
   "cell_type": "code",
   "execution_count": 70,
   "metadata": {},
   "outputs": [],
   "source": [
    "dt=[('IQ', 'i2'), ('Height', 'f4'), ('Age', 'i2'), ('Rating', 'f4'), ('College', 'U30')]"
   ]
  },
  {
   "cell_type": "code",
   "execution_count": 71,
   "metadata": {},
   "outputs": [
    {
     "data": {
      "text/plain": [
       "array([(101, 70.5, 21, 4.6, ' Harvard'), (110, 69.5, 22, 6.2, ' MIT'),\n",
       "       (130, 76. , 21, 7. , ' Cal Tech'), (120, 72.5, 29, 7.4, ' Yale'),\n",
       "       (120, 73.2, 33, 5.8, ' Harvard'),\n",
       "       (105, 68. , 35, 6. , ' U. of Wash.'),\n",
       "       (107, 74. , 44, 5.4, ' Tacoma Comm. College'),\n",
       "       (140, 67. , 30, 6.2, ' Oregon State'),\n",
       "       (100, 72.5, 31, 4. , ' UCLA'), (100, 70. , 18, 5.5, ' C.C.C.')],\n",
       "      dtype=[('IQ', '<i2'), ('Height', '<f4'), ('Age', '<i2'), ('Rating', '<f4'), ('College', '<U30')])"
      ]
     },
     "execution_count": 71,
     "metadata": {},
     "output_type": "execute_result"
    }
   ],
   "source": [
    "team_a = np.loadtxt('team_data.txt', dt, delimiter=',')\n",
    "team_a"
   ]
  },
  {
   "cell_type": "code",
   "execution_count": 72,
   "metadata": {},
   "outputs": [
    {
     "data": {
      "text/plain": [
       "array([(101, 70.5, 21, 4.6, 'Harvard'), (110, 69.5, 22, 6.2, 'MIT'),\n",
       "       (130, 76. , 21, 7. , 'Cal Tech'), (120, 72.5, 29, 7.4, 'Yale'),\n",
       "       (120, 73.2, 33, 5.8, 'Harvard'),\n",
       "       (105, 68. , 35, 6. , 'U. of Wash.'),\n",
       "       (107, 74. , 44, 5.4, 'Tacoma Comm. College'),\n",
       "       (140, 67. , 30, 6.2, 'Oregon State'), (100, 72.5, 31, 4. , 'UCLA'),\n",
       "       (100, 70. , 18, 5.5, 'C.C.C.')],\n",
       "      dtype=[('IQ', '<i2'), ('Height', '<f4'), ('Age', '<i2'), ('Rating', '<f4'), ('College', '<U30')])"
      ]
     },
     "execution_count": 72,
     "metadata": {},
     "output_type": "execute_result"
    }
   ],
   "source": [
    "team_a = np.loadtxt('team_data.txt', dt, delimiter=', ')\n",
    "team_a"
   ]
  },
  {
   "cell_type": "code",
   "execution_count": 73,
   "metadata": {},
   "outputs": [],
   "source": [
    "iq_a = team_a['IQ']\n",
    "ht_a = team_a['Height']\n",
    "age_a = team_a['Age']\n",
    "rat_a = team_a['Rating']"
   ]
  },
  {
   "cell_type": "code",
   "execution_count": 74,
   "metadata": {},
   "outputs": [
    {
     "data": {
      "text/plain": [
       "array([101, 110, 130, 120, 120, 105, 107, 140, 100, 100], dtype=int16)"
      ]
     },
     "execution_count": 74,
     "metadata": {},
     "output_type": "execute_result"
    }
   ],
   "source": [
    "iq_a"
   ]
  },
  {
   "cell_type": "code",
   "execution_count": 75,
   "metadata": {},
   "outputs": [
    {
     "name": "stdout",
     "output_type": "stream",
     "text": [
      "Mean IQ of the dev. team is 113.30.\n",
      "Std. dev. of team's IQ is 13.06.\n"
     ]
    }
   ],
   "source": [
    "print('Mean IQ of the dev. team is %.2f.' % np.mean(iq_a))\n",
    "print('Std. dev. of team\\'s IQ is %.2f.' % np.std(iq_a))"
   ]
  },
  {
   "cell_type": "code",
   "execution_count": 76,
   "metadata": {},
   "outputs": [
    {
     "data": {
      "text/plain": [
       "0.03435070704736269"
      ]
     },
     "execution_count": 76,
     "metadata": {},
     "output_type": "execute_result"
    }
   ],
   "source": [
    "np.corrcoef(iq_a, ht_a)[0, 1]"
   ]
  },
  {
   "cell_type": "code",
   "execution_count": 77,
   "metadata": {},
   "outputs": [
    {
     "data": {
      "text/plain": [
       "array([ 9.2, 12.4, 14. , 14.8, 11.6, 12. , 10.8, 12.4,  8. , 11. ],\n",
       "      dtype=float32)"
      ]
     },
     "execution_count": 77,
     "metadata": {},
     "output_type": "execute_result"
    }
   ],
   "source": [
    "team_a['Rating'] *= 2\n",
    "team_a['Rating']"
   ]
  },
  {
   "cell_type": "code",
   "execution_count": 78,
   "metadata": {},
   "outputs": [
    {
     "data": {
      "text/plain": [
       "array([(101, 70.5, 21,  9.2, 'Harvard'), (110, 69.5, 22, 12.4, 'MIT'),\n",
       "       (130, 76. , 21, 14. , 'Cal Tech'), (120, 72.5, 29, 14.8, 'Yale'),\n",
       "       (120, 73.2, 33, 11.6, 'Harvard'),\n",
       "       (105, 68. , 35, 12. , 'U. of Wash.'),\n",
       "       (107, 74. , 44, 10.8, 'Tacoma Comm. College'),\n",
       "       (140, 67. , 30, 12.4, 'Oregon State'),\n",
       "       (100, 72.5, 31,  8. , 'UCLA'), (100, 70. , 18, 11. , 'C.C.C.'),\n",
       "       (100, 70. , 18,  5.5, 'C.C.C.')],\n",
       "      dtype=[('IQ', '<i2'), ('Height', '<f4'), ('Age', '<i2'), ('Rating', '<f4'), ('College', '<U30')])"
      ]
     },
     "execution_count": 78,
     "metadata": {},
     "output_type": "execute_result"
    }
   ],
   "source": [
    "new_a = np.array((100, 70, 18, 5.5, 'C.C.C.'), dtype=dt)\n",
    "team_a = np.append(team_a, new_a)\n",
    "team_a"
   ]
  },
  {
   "cell_type": "code",
   "execution_count": 79,
   "metadata": {},
   "outputs": [],
   "source": [
    "fmt_str = '%i, %.1f, %i, %.1f, %s'\n",
    "np.savetxt('team_data.txt', team_a, fmt=fmt_str)"
   ]
  },
  {
   "cell_type": "code",
   "execution_count": null,
   "metadata": {},
   "outputs": [],
   "source": []
  }
 ],
 "metadata": {
  "kernelspec": {
   "display_name": "Python 3",
   "language": "python",
   "name": "python3"
  },
  "language_info": {
   "codemirror_mode": {
    "name": "ipython",
    "version": 3
   },
   "file_extension": ".py",
   "mimetype": "text/x-python",
   "name": "python",
   "nbconvert_exporter": "python",
   "pygments_lexer": "ipython3",
   "version": "3.8.3"
  }
 },
 "nbformat": 4,
 "nbformat_minor": 4
}
