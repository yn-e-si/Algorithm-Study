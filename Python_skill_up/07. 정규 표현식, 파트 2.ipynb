{
 "cells": [
  {
   "cell_type": "markdown",
   "metadata": {},
   "source": [
    "### 7.2.2\t태깅 문제 고치기"
   ]
  },
  {
   "cell_type": "code",
   "execution_count": 1,
   "metadata": {},
   "outputs": [
    {
     "name": "stdout",
     "output_type": "stream",
     "text": [
      "12,000\n",
      "100\n",
      "53.12\n"
     ]
    }
   ],
   "source": [
    "import re\n",
    "pat = r'\\d{1,3}(?:,\\d{3})*(?:\\.\\d*)?\\b'\n",
    "s = '12,000 monkeys on 100 typewriters for 53.12 days.'\n",
    "lst = re.findall(pat, s)\n",
    "for item in lst:\n",
    "    print(item)"
   ]
  },
  {
   "cell_type": "code",
   "execution_count": 2,
   "metadata": {},
   "outputs": [
    {
     "data": {
      "text/plain": [
       "['12,000', '100', '53.12']"
      ]
     },
     "execution_count": 2,
     "metadata": {},
     "output_type": "execute_result"
    }
   ],
   "source": [
    "regex1 = re.compile(r'\\d{1,3}(?:,\\d{3})*(?:\\.\\d*)?\\b')\n",
    "s = '12,000 monkeys on 100 typewriters for 53.12 days.'\n",
    "lst = re.findall(regex1, s)\n",
    "lst"
   ]
  },
  {
   "cell_type": "markdown",
   "metadata": {},
   "source": [
    "## 7.3\t탐욕적 vs 게으른 일치"
   ]
  },
  {
   "cell_type": "code",
   "execution_count": 3,
   "metadata": {},
   "outputs": [
    {
     "name": "stdout",
     "output_type": "stream",
     "text": [
      "<h1>This is an HTML heading.</h1>\n"
     ]
    }
   ],
   "source": [
    "import re\n",
    "pat = r'<.*>'\n",
    "the_line = '<h1>This is an HTML heading.</h1>'\n",
    "m = re.match(pat, the_line)\n",
    "print(m.group())"
   ]
  },
  {
   "cell_type": "code",
   "execution_count": 4,
   "metadata": {},
   "outputs": [
    {
     "name": "stdout",
     "output_type": "stream",
     "text": [
      "<h1>\n"
     ]
    }
   ],
   "source": [
    "import re\n",
    "pat = r'<.*?>' \t\t\t\t\t# 게으른 일치 사용!\n",
    "the_line = '<h1>This is an HTML heading.</h1>'\n",
    "m = re.match(pat, the_line)\n",
    "print(m.group())"
   ]
  },
  {
   "cell_type": "code",
   "execution_count": 5,
   "metadata": {},
   "outputs": [],
   "source": [
    "s = r'''<h1>This is the first heading.</h1>\n",
    "<h1>This is the second heading.</h1>\n",
    "<b>This is in bold.</b>'''"
   ]
  },
  {
   "cell_type": "code",
   "execution_count": 6,
   "metadata": {},
   "outputs": [
    {
     "name": "stdout",
     "output_type": "stream",
     "text": [
      "There are 6 tags.\n"
     ]
    }
   ],
   "source": [
    "pat = r'<.*?>' \t\t\t\t# ?를 사용하기 때문에\n",
    "\t\t\t\t\t# 게으른 일치를 사용하는 것이다.\n",
    "lst = re.findall(pat, s, flags=re.DOTALL)\n",
    "print('There are', len(lst), 'tags.')"
   ]
  },
  {
   "cell_type": "code",
   "execution_count": 7,
   "metadata": {},
   "outputs": [
    {
     "name": "stdout",
     "output_type": "stream",
     "text": [
      "There are 1 tags.\n"
     ]
    }
   ],
   "source": [
    "pat = r'<.*>' # Notice use of GREEDY here!\n",
    "lst = re.findall(pat, s, flags=re.DOTALL)\n",
    "print('There are', len(lst), 'tags.')"
   ]
  },
  {
   "cell_type": "code",
   "execution_count": 8,
   "metadata": {},
   "outputs": [],
   "source": [
    "s = '''Here is a single sentence. Here is\n",
    "another sentence, ending in a period. And\n",
    "here is yet another.'''"
   ]
  },
  {
   "cell_type": "code",
   "execution_count": 9,
   "metadata": {},
   "outputs": [
    {
     "name": "stdout",
     "output_type": "stream",
     "text": [
      "There are 3 sentences.\n"
     ]
    }
   ],
   "source": [
    "pat = r'.*?[.?!]' \t\t\t# 첫 \"?\"로 인해, \n",
    "\t\t\t\t\t# 게으른 일치 사용.\n",
    "lst = re.findall(pat, s, flags=re.DOTALL)\n",
    "print('There are', len(lst), 'sentences.')"
   ]
  },
  {
   "cell_type": "markdown",
   "metadata": {},
   "source": [
    "## 7.4 내다보기 기능"
   ]
  },
  {
   "cell_type": "code",
   "execution_count": 10,
   "metadata": {},
   "outputs": [],
   "source": [
    "s = '''See the U.S.A. today. It's right here, not\n",
    "a world away. Average temp. is 66.5.'''"
   ]
  },
  {
   "cell_type": "code",
   "execution_count": 11,
   "metadata": {},
   "outputs": [
    {
     "name": "stdout",
     "output_type": "stream",
     "text": [
      "-> See the U.S.A. today.\n",
      "-> It's right here, not\n",
      "a world away.\n",
      "-> Average temp. is 66.5.\n"
     ]
    }
   ],
   "source": [
    "import re\n",
    "pat = r'[A-Z].*?[.!?](?= [A-Z]|$)'\n",
    "m = re.findall(pat, s, flags=re.DOTALL | re.MULTILINE)\n",
    "\n",
    "for i in m:\n",
    "   print('->', i)"
   ]
  },
  {
   "cell_type": "code",
   "execution_count": 12,
   "metadata": {},
   "outputs": [
    {
     "name": "stdout",
     "output_type": "stream",
     "text": [
      "-> To be or not to be. \n",
      "That is the question.\n",
      "So says the Bard.\n"
     ]
    }
   ],
   "source": [
    "s = '''To be or not to be. \n",
    "That is the question.\n",
    "So says the Bard.\n",
    "'''\n",
    "\n",
    "pat = r'[A-Z].*?[.!?](?= [A-Z]|$)'\n",
    "m = re.findall(pat, s, flags=re.DOTALL)\n",
    "\n",
    "for i in m:\n",
    "   print('->', i)"
   ]
  },
  {
   "cell_type": "code",
   "execution_count": 13,
   "metadata": {},
   "outputs": [
    {
     "name": "stdout",
     "output_type": "stream",
     "text": [
      "-> See the U.S.A. today. I\n",
      "-> \n"
     ]
    }
   ],
   "source": [
    "s = \"See the U.S.A. today. It's right here, not\"\n",
    "pat = r'[A-Z].*?[.!?] [A-Z]|$'\n",
    "m = re.findall(pat, s, flags=re.DOTALL)\n",
    "for i in m:\n",
    "    print('->', i)"
   ]
  },
  {
   "cell_type": "markdown",
   "metadata": {},
   "source": [
    "## 7.5\t다중 패턴 확인하기 (내다보기)"
   ]
  },
  {
   "cell_type": "code",
   "execution_count": 14,
   "metadata": {},
   "outputs": [],
   "source": [
    "pat1 = r'(\\w|[!@#$%^&*+-]){8,12}$'\n",
    "pat2 = r'(?=.*[a-zA-Z])' \t\t# 반드시 글자 포함\n",
    "pat3 = r'(?=.*\\d)' \t\t\t# 반드시 숫자 포함\n",
    "pat4 = r'(?=.*[!@#$%^&*+-])' \t\t# 반드시 구두점 문자 포함\n",
    "\n",
    "pat = pat2 + pat3 + pat4 + pat1"
   ]
  },
  {
   "cell_type": "code",
   "execution_count": 15,
   "metadata": {},
   "outputs": [
    {
     "name": "stdout",
     "output_type": "stream",
     "text": [
      "It passed the test!\n"
     ]
    }
   ],
   "source": [
    "import re\n",
    "passwd = 'HenryThe5!'\n",
    "if re.match(pat, passwd):\n",
    "    print('It passed the test!')\n",
    "else:\n",
    "    print('Insufficiently strong password.')"
   ]
  },
  {
   "cell_type": "markdown",
   "metadata": {},
   "source": [
    "## 7.6 부정적 내다보기"
   ]
  },
  {
   "cell_type": "code",
   "execution_count": 16,
   "metadata": {},
   "outputs": [
    {
     "name": "stdout",
     "output_type": "stream",
     "text": [
      "['abc']\n"
     ]
    }
   ],
   "source": [
    "import re\n",
    "pat = r'abc(?!abc)'\n",
    "s = 'The magic of abcabc.'\n",
    "m = re.findall(pat, s)\n",
    "print(m)"
   ]
  },
  {
   "cell_type": "code",
   "execution_count": 17,
   "metadata": {},
   "outputs": [
    {
     "name": "stdout",
     "output_type": "stream",
     "text": [
      "['ABC']\n"
     ]
    }
   ],
   "source": [
    "pat = r'abc(?!abc)'\n",
    "s = 'The magic of abcABC.'\n",
    "m = re.findall(pat, s, flags=re.I)\n",
    "print(m)"
   ]
  },
  {
   "cell_type": "code",
   "execution_count": 18,
   "metadata": {},
   "outputs": [],
   "source": [
    "s = '''See the U.S.A. today. It's right here, not\n",
    " a world away. Average temp. is 70.5.'''"
   ]
  },
  {
   "cell_type": "code",
   "execution_count": 19,
   "metadata": {},
   "outputs": [
    {
     "name": "stdout",
     "output_type": "stream",
     "text": [
      "-> See the U.S.A. today.\n",
      "-> It's right here, not\n",
      " a world away.\n",
      "-> Average temp. is 70.5.\n",
      "-> It's fun!\n"
     ]
    }
   ],
   "source": [
    "import re \t# 소스 파일에 아직 넣지 않은 경우에만,\n",
    "\t\t# 이 문장을 추가한다.\n",
    "\n",
    "pat = r'[A-Z].*?[.!?](?! [a-z]|\\w)'\n",
    "s = '''See the U.S.A. today. It's right here, not\n",
    " a world away. Average temp. is 70.5. It's fun!'''\n",
    "m = re.findall(pat, s, flags=re.DOTALL)\n",
    "for i in m:\n",
    "    print('->', i)"
   ]
  },
  {
   "cell_type": "code",
   "execution_count": 20,
   "metadata": {},
   "outputs": [
    {
     "name": "stdout",
     "output_type": "stream",
     "text": [
      "-> See the U.S.A. today.\n",
      "-> It's right here, not a world away.\n",
      "-> Average temp. is 70.5.\n",
      "-> It's fun!\n"
     ]
    }
   ],
   "source": [
    "s = re.sub(r'\\n', '', s)\n",
    "m = re.findall(pat, s, flags=re.DOTALL)\n",
    "for i in m:\n",
    "    print('->', i)"
   ]
  },
  {
   "cell_type": "markdown",
   "metadata": {},
   "source": [
    "## 7.7\t명명 그룹"
   ]
  },
  {
   "cell_type": "code",
   "execution_count": 21,
   "metadata": {},
   "outputs": [],
   "source": [
    "pat = r'(?P<first>\\w+) (?P<last>\\w+)'"
   ]
  },
  {
   "cell_type": "code",
   "execution_count": 22,
   "metadata": {},
   "outputs": [],
   "source": [
    "import re\n",
    "s = 'Jane Austen'\n",
    "m = re.match(pat, s)"
   ]
  },
  {
   "cell_type": "code",
   "execution_count": 23,
   "metadata": {},
   "outputs": [
    {
     "name": "stdout",
     "output_type": "stream",
     "text": [
      "first name =  Jane\n",
      "last name =  Austen\n"
     ]
    }
   ],
   "source": [
    "print('first name = ', m.group('first'))\n",
    "print('last name = ', m.group('last'))"
   ]
  },
  {
   "cell_type": "code",
   "execution_count": 24,
   "metadata": {},
   "outputs": [
    {
     "name": "stdout",
     "output_type": "stream",
     "text": [
      "Austen, Jane\n"
     ]
    }
   ],
   "source": [
    "print(m.group('last') + ', ' + m.group('first'))"
   ]
  },
  {
   "cell_type": "code",
   "execution_count": 25,
   "metadata": {},
   "outputs": [],
   "source": [
    "pat = r'(?P<first>\\w+) (?P<mid>\\w\\. )?(?P<last>\\w+)'\n",
    "\n",
    "def reorg_name(in_s):\n",
    "    m = re.match(pat, in_s)\n",
    "    s = m.group('last') + ', ' + m.group('first')\n",
    "    if m.group('mid'):\n",
    "        s += ' ' + m.group('mid')\n",
    "    return s"
   ]
  },
  {
   "cell_type": "code",
   "execution_count": 26,
   "metadata": {},
   "outputs": [
    {
     "data": {
      "text/plain": [
       "'The the'"
      ]
     },
     "execution_count": 26,
     "metadata": {},
     "output_type": "execute_result"
    }
   ],
   "source": [
    "pat = r'(?P<word>\\w+) (?P=word)'\n",
    "m = re.search(pat, 'The the dog.', flags=re.I)\n",
    "m.group(0)"
   ]
  },
  {
   "cell_type": "markdown",
   "metadata": {},
   "source": [
    "## 7.8 re.split 함수"
   ]
  },
  {
   "cell_type": "code",
   "execution_count": 27,
   "metadata": {},
   "outputs": [],
   "source": [
    "pat = r', *| +'"
   ]
  },
  {
   "cell_type": "code",
   "execution_count": 28,
   "metadata": {},
   "outputs": [
    {
     "data": {
      "text/plain": [
       "['3', '5', '7', '8', '10', '11']"
      ]
     },
     "execution_count": 28,
     "metadata": {},
     "output_type": "execute_result"
    }
   ],
   "source": [
    "import re\n",
    "lst = re.split(pat, '3, 5 7 8,10, 11')\n",
    "lst"
   ]
  },
  {
   "cell_type": "code",
   "execution_count": 29,
   "metadata": {},
   "outputs": [
    {
     "data": {
      "text/plain": [
       "['3', '2', '*', '2', '15', '*', '+', '4', '+']"
      ]
     },
     "execution_count": 29,
     "metadata": {},
     "output_type": "execute_result"
    }
   ],
   "source": [
    "s = '3 2 * 2 15 * + 4 +'\n",
    "toks = re.split(pat, s)\n",
    "toks"
   ]
  },
  {
   "cell_type": "markdown",
   "metadata": {},
   "source": [
    "## 7.9 스캐너 클래스와 RPN 프로젝트"
   ]
  },
  {
   "cell_type": "code",
   "execution_count": 30,
   "metadata": {},
   "outputs": [],
   "source": [
    "import re\n",
    "\n",
    "def sc_oper(scanner, tok): return tok\n",
    "def sc_int(scanner, tok): return int(tok)\n",
    "def sc_float(scanner, tok): return float(tok)\n",
    "\n",
    "scanner = re.Scanner ([\n",
    "    (r'[*+/-]', sc_oper),\n",
    "    (r'\\d+\\.\\d*', sc_float),\n",
    "    (r'\\d+', sc_int),\n",
    "    (r'\\s+', None)\n",
    "    ])"
   ]
  },
  {
   "cell_type": "code",
   "execution_count": 31,
   "metadata": {},
   "outputs": [
    {
     "name": "stdout",
     "output_type": "stream",
     "text": [
      "([3, 3, '+'], '')\n"
     ]
    }
   ],
   "source": [
    "print(scanner.scan('3 3+'))"
   ]
  },
  {
   "cell_type": "code",
   "execution_count": 32,
   "metadata": {},
   "outputs": [
    {
     "name": "stdout",
     "output_type": "stream",
     "text": [
      "([32, 6.67, '+', 10, 5, '-', '*'], '')\n"
     ]
    }
   ],
   "source": [
    "print(scanner.scan('32 6.67+ 10 5- *'))"
   ]
  },
  {
   "cell_type": "markdown",
   "metadata": {},
   "source": [
    "## 7.10 RPN: 스캐너로 더 많은 작업 수행하기"
   ]
  },
  {
   "cell_type": "code",
   "execution_count": 33,
   "metadata": {},
   "outputs": [],
   "source": [
    "import re\n",
    "\n",
    "scanner = re.Scanner ([\n",
    "    (r'[*+/-]', sc_oper),\n",
    "    (r'\\d+\\.\\d*', sc_float),\n",
    "    (r'\\d+', sc_int),\n",
    "    (r'\\s+', None)\n",
    "    ])"
   ]
  },
  {
   "cell_type": "code",
   "execution_count": 34,
   "metadata": {},
   "outputs": [],
   "source": [
    "scanner = re.Scanner ([\n",
    "    (r'[*+/-]', lambda s, t: bin_op(t)),\n",
    "    (r'\\d+\\.\\d*', lambda s, t: the_stk.append(float(t))),\n",
    "    (r'\\d+', lambda s, t: the_stk.append(int(t))),\n",
    "    (r'\\s+', None)\n",
    "    ])\n",
    "\n",
    "def bin_op(tok):\n",
    "    op2, op1 = the_stk.pop(), the_stk.pop()\n",
    "    if tok == '+':\n",
    "        the_stk.append(op1 + op2)\n",
    "    elif tok == '*':\n",
    "        the_stk.append(op1 * op2)\n",
    "    elif tok == '/':\n",
    "        the_stk.append(op1 / op2)\n",
    "    elif tok == '-':\n",
    "        the_stk.append(op1 - op2)"
   ]
  },
  {
   "cell_type": "code",
   "execution_count": 35,
   "metadata": {},
   "outputs": [
    {
     "name": "stdout",
     "output_type": "stream",
     "text": [
      "Enter RPN string: 32 6.67+ 10 5- *\n",
      "Answer is 193.35000000000002\n"
     ]
    }
   ],
   "source": [
    "# File scanner_rpn.py -------------------------------\n",
    "\n",
    "import re\n",
    "\n",
    "the_stk = [ ]\n",
    "\n",
    "scanner = re.Scanner ([\n",
    "    (r'[*+/-]', lambda s, t: bin_op(t)),\n",
    "    (r'\\d+\\.\\d*', lambda s, t: the_stk.append(float(t))),\n",
    "    (r'\\d+', lambda s, t: the_stk.append(int(t))),\n",
    "    (r'\\s+', None)\n",
    "    ])\n",
    "\n",
    "def bin_op(tok):\n",
    "    op2, op1 = the_stk.pop(), the_stk.pop()\n",
    "    if tok == '+':\n",
    "        the_stk.append(op1 + op2)\n",
    "    elif tok == '*':\n",
    "        the_stk.append(op1 * op2)\n",
    "    elif tok == '/':\n",
    "        the_stk.append(op1 / op2)\n",
    "    elif tok == '-':\n",
    "        the_stk.append(op1 - op2)\n",
    "\n",
    "def main():\n",
    "    input_str = input('Enter RPN string: ')\n",
    "    tokens, unknown = scanner.scan(input_str)\n",
    "    if unknown:\n",
    "        print('Unrecognized input:', unknown)\n",
    "    else:\n",
    "        print('Answer is', the_stk.pop())\n",
    "\n",
    "main()"
   ]
  },
  {
   "cell_type": "code",
   "execution_count": 36,
   "metadata": {},
   "outputs": [
    {
     "name": "stdout",
     "output_type": "stream",
     "text": [
      "Enter RPN string: 32 6.67+ 10 5- *\n",
      "Answer is 193.35000000000002\n"
     ]
    }
   ],
   "source": [
    "# File scanner_rpn2.py ------------------------------\n",
    "\n",
    "import re\n",
    "import operator\n",
    "\n",
    "the_stk = [ ]\n",
    "\n",
    "scanner = re.Scanner ([\n",
    "    (r'[+]', lambda s, t: bin_op(operator.add)),\n",
    "    (r'[*]', lambda s, t: bin_op(operator.mul)),\n",
    "    (r'[-]', lambda s, t: bin_op(operator.sub)),\n",
    "    (r'[/]', lambda s, t: bin_op(operator.truediv)),\n",
    "    (r'\\d+\\.\\d*', lambda s, t: the_stk.append(float(t))),\n",
    "    (r'\\d+', lambda s, t: the_stk.append(int(t))),\n",
    "    (r'\\s+', None)\n",
    "    ])\n",
    "\n",
    "def bin_op(oper):\n",
    "    op2, op1 = the_stk.pop(), the_stk.pop()\n",
    "    the_stk.append(oper(op1, op2))\n",
    "\n",
    "def main():\n",
    "    input_str = input('Enter RPN string: ')\n",
    "    tokens, unknown = scanner.scan(input_str)\n",
    "    if unknown:\n",
    "        print('Unrecognized input:', unknown)\n",
    "    else:\n",
    "        print('Answer is', the_stk.pop())\n",
    "\n",
    "main()"
   ]
  },
  {
   "cell_type": "code",
   "execution_count": null,
   "metadata": {},
   "outputs": [],
   "source": []
  }
 ],
 "metadata": {
  "kernelspec": {
   "display_name": "Python 3",
   "language": "python",
   "name": "python3"
  },
  "language_info": {
   "codemirror_mode": {
    "name": "ipython",
    "version": 3
   },
   "file_extension": ".py",
   "mimetype": "text/x-python",
   "name": "python",
   "nbconvert_exporter": "python",
   "pygments_lexer": "ipython3",
   "version": "3.7.6"
  }
 },
 "nbformat": 4,
 "nbformat_minor": 4
}
