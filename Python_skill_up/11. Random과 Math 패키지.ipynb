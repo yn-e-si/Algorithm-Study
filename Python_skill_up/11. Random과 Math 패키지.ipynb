{
 "cells": [
  {
   "cell_type": "markdown",
   "metadata": {},
   "source": [
    "## 11.3 무작위 행동 테스트하기"
   ]
  },
  {
   "cell_type": "code",
   "execution_count": 1,
   "metadata": {},
   "outputs": [],
   "source": [
    "import random\n",
    "def do_trials(n):\n",
    "    hits = [0] * 10\n",
    "    for i in range(n):\n",
    "        a = random.randint(0, 9)\n",
    "        hits[a] += 1\n",
    "    for i in range(10):\n",
    "        fss = '{}: {}\\t {:.3}'\n",
    "        print(fss.format(i, hits[i], hits[i]/(n/10)))"
   ]
  },
  {
   "cell_type": "code",
   "execution_count": 2,
   "metadata": {},
   "outputs": [
    {
     "name": "stdout",
     "output_type": "stream",
     "text": [
      "0: 11\t 1.1\n",
      "1: 5\t 0.5\n",
      "2: 10\t 1.0\n",
      "3: 19\t 1.9\n",
      "4: 6\t 0.6\n",
      "5: 10\t 1.0\n",
      "6: 14\t 1.4\n",
      "7: 7\t 0.7\n",
      "8: 10\t 1.0\n",
      "9: 8\t 0.8\n"
     ]
    }
   ],
   "source": [
    "do_trials(100)"
   ]
  },
  {
   "cell_type": "code",
   "execution_count": 3,
   "metadata": {},
   "outputs": [
    {
     "name": "stdout",
     "output_type": "stream",
     "text": [
      "0: 110\t 1.1\n",
      "1: 96\t 0.96\n",
      "2: 100\t 1.0\n",
      "3: 96\t 0.96\n",
      "4: 94\t 0.94\n",
      "5: 106\t 1.06\n",
      "6: 95\t 0.95\n",
      "7: 86\t 0.86\n",
      "8: 111\t 1.11\n",
      "9: 106\t 1.06\n"
     ]
    }
   ],
   "source": [
    "do_trials(1000)"
   ]
  },
  {
   "cell_type": "code",
   "execution_count": 4,
   "metadata": {},
   "outputs": [
    {
     "name": "stdout",
     "output_type": "stream",
     "text": [
      "0: 7617\t 0.989\n",
      "1: 7765\t 1.01\n",
      "2: 7719\t 1.0\n",
      "3: 7738\t 1.0\n",
      "4: 7640\t 0.992\n",
      "5: 7670\t 0.996\n",
      "6: 7615\t 0.989\n",
      "7: 7777\t 1.01\n",
      "8: 7818\t 1.02\n",
      "9: 7641\t 0.992\n"
     ]
    }
   ],
   "source": [
    "do_trials(77000)"
   ]
  },
  {
   "cell_type": "markdown",
   "metadata": {},
   "source": [
    "## 11.4\t무작위-정수 게임"
   ]
  },
  {
   "cell_type": "code",
   "execution_count": 6,
   "metadata": {},
   "outputs": [
    {
     "name": "stdout",
     "output_type": "stream",
     "text": [
      "Enter guess:25\n",
      "Too low. Enter guess:37\n",
      "Too low. Enter guess:30\n",
      "Too low. Enter guess:34\n",
      "Too low. Enter guess:32\n",
      "Too low. Enter guess:31\n",
      "Too low. Enter guess:45\n",
      "Too high. Enter guess:40\n",
      "Too low. Enter guess:42\n",
      "Success! You win.\n"
     ]
    }
   ],
   "source": [
    "import random\n",
    "n = random.randint(1, 50)\n",
    "while True:\n",
    "    guess = int(input('Enter guess:'))\n",
    "    if guess == n:\n",
    "        print('Success! You win.')\n",
    "        break\n",
    "    elif guess < n:\n",
    "        print('Too low.', end=' ')\n",
    "    else:\n",
    "        print('Too high.', end=' ')"
   ]
  },
  {
   "cell_type": "code",
   "execution_count": 7,
   "metadata": {},
   "outputs": [
    {
     "name": "stdout",
     "output_type": "stream",
     "text": [
      "Enter guess (0 to exit): 25\n",
      "Too high. Enter guess (0 to exit): 15\n",
      "Too high. Enter guess (0 to exit): 7\n",
      "Too low. Enter guess (0 to exit): 10\n",
      "Too low. Enter guess (0 to exit): 12\n",
      "Success! You win.\n",
      "Want to play again? (Y or N): y\n",
      "Enter guess (0 to exit): 40\n",
      "Too high. Enter guess (0 to exit): 0\n",
      "Exiting game.\n",
      "Want to play again? (Y or N): n\n"
     ]
    }
   ],
   "source": [
    "import random\n",
    "def play_the_game():\n",
    "    n = random.randint(1, 50)\n",
    "    while True:\n",
    "        guess = int(input('Enter guess (0 to exit): '))\n",
    "        if guess == 0:\n",
    "            print('Exiting game.')\n",
    "            break\n",
    "        elif guess == n:\n",
    "            print('Success! You win.')\n",
    "            break\n",
    "        elif guess < n:\n",
    "            print('Too low.', end=' ')\n",
    "        else:\n",
    "            print('Too high.', end=' ')\n",
    "while True:\n",
    "    play_the_game()\n",
    "    ans = input('Want to play again? (Y or N): ')\n",
    "    if not ans or ans[0] in 'Nn':\n",
    "        break"
   ]
  },
  {
   "cell_type": "markdown",
   "metadata": {},
   "source": [
    "## 11.5 카드 덱 객체 만들기"
   ]
  },
  {
   "cell_type": "code",
   "execution_count": 8,
   "metadata": {},
   "outputs": [],
   "source": [
    "kings_list = ['John', 'James', 'Henry', 'Henry', 'George']"
   ]
  },
  {
   "cell_type": "code",
   "execution_count": 9,
   "metadata": {},
   "outputs": [
    {
     "data": {
      "text/plain": [
       "['Henry', 'John', 'Henry', 'George', 'James']"
      ]
     },
     "execution_count": 9,
     "metadata": {},
     "output_type": "execute_result"
    }
   ],
   "source": [
    "random.shuffle(kings_list)\n",
    "kings_list"
   ]
  },
  {
   "cell_type": "code",
   "execution_count": 10,
   "metadata": {},
   "outputs": [],
   "source": [
    "import random\n",
    "class Deck():\n",
    "\n",
    "    def __init__(self, size): \n",
    "        self.card_list = [i for i in range(size)]\n",
    "        random.shuffle(self.card_list)\n",
    "        self.current_card = 0\n",
    "        self.size = size\n",
    "\n",
    "    def deal(self):\n",
    "        if self.size - self.current_card < 1:\n",
    "            random.shuffle(self.card_list)\n",
    "            self.current_card = 0\n",
    "            print('Reshuffling...!!!')\n",
    "        self.current_card += 1\n",
    "        return self.card_list[self.current_card - 1]"
   ]
  },
  {
   "cell_type": "code",
   "execution_count": 11,
   "metadata": {},
   "outputs": [
    {
     "name": "stdout",
     "output_type": "stream",
     "text": [
      "J of diamonds\n",
      "\n",
      "A of hearts\n",
      "\n",
      "J of clubs\n",
      "\n",
      "A of diamonds\n",
      "\n",
      "4 of clubs\n",
      "\n",
      "K of hearts\n",
      "\n",
      "3 of diamonds\n",
      "\n",
      "5 of clubs\n",
      "\n",
      "10 of clubs\n",
      "\n",
      "6 of clubs\n",
      "\n",
      "9 of diamonds\n",
      "\n",
      "10 of hearts\n",
      "\n",
      "A of spades\n",
      "\n",
      "3 of clubs\n",
      "\n",
      "J of hearts\n",
      "\n",
      "8 of spades\n",
      "\n",
      "Q of spades\n",
      "\n",
      "6 of hearts\n",
      "\n",
      "9 of spades\n",
      "\n",
      "5 of spades\n",
      "\n",
      "J of spades\n",
      "\n",
      "Q of clubs\n",
      "\n",
      "8 of clubs\n",
      "\n",
      "4 of spades\n",
      "\n",
      "3 of hearts\n",
      "\n",
      "10 of spades\n",
      "\n",
      "A of clubs\n",
      "\n",
      "8 of diamonds\n",
      "\n",
      "7 of spades\n",
      "\n",
      "2 of diamonds\n",
      "\n",
      "10 of diamonds\n",
      "\n",
      "7 of clubs\n",
      "\n",
      "7 of hearts\n",
      "\n",
      "3 of spades\n",
      "\n",
      "4 of hearts\n",
      "\n",
      "9 of clubs\n",
      "\n",
      "8 of hearts\n",
      "\n",
      "4 of diamonds\n",
      "\n",
      "2 of hearts\n",
      "\n",
      "2 of clubs\n",
      "\n",
      "7 of diamonds\n",
      "\n",
      "5 of hearts\n",
      "\n",
      "Q of diamonds\n",
      "\n",
      "5 of diamonds\n",
      "\n",
      "2 of spades\n",
      "\n",
      "K of spades\n",
      "\n",
      "Q of hearts\n",
      "\n",
      "6 of spades\n",
      "\n",
      "6 of diamonds\n",
      "\n",
      "K of diamonds\n",
      "\n",
      "K of clubs\n",
      "\n",
      "9 of hearts\n",
      "\n",
      "Reshuffling...!!!\n",
      "8 of clubs\n",
      "\n",
      "Q of hearts\n",
      "\n",
      "6 of spades\n",
      "\n",
      "3 of spades\n",
      "\n",
      "8 of hearts\n",
      "\n",
      "5 of spades\n",
      "\n",
      "6 of diamonds\n",
      "\n",
      "J of spades\n",
      "\n"
     ]
    }
   ],
   "source": [
    "ranks = ['2', '3', '4', '5', '6', '7', '8', '9', '10', 'J', 'Q', 'K', 'A']\n",
    "suits = ['clubs', 'diamonds', 'hearts', 'spades' ]\n",
    "my_deck = Deck(52)\n",
    "\n",
    "# Deal twelve poker hands, so user can compare before\n",
    "# and after shuffling. \n",
    "\n",
    "for i in range(12):\n",
    "    for i in range(5):\n",
    "        d = my_deck.deal()\n",
    "        r = d % 13\n",
    "        s = d // 13\n",
    "        print(ranks[r], 'of', suits[s])\n",
    "        print()"
   ]
  },
  {
   "cell_type": "code",
   "execution_count": 12,
   "metadata": {},
   "outputs": [],
   "source": [
    "import random\n",
    "\n",
    "class Deck():\n",
    "    def __init__(self, size):\n",
    "        self.card_list = [i for i in range(size)]\n",
    "        self.cards_in_play_list = []\n",
    "        self.discards_list = []\n",
    "        random.shuffle(self.card_list)\n",
    "\n",
    "    def deal(self):\n",
    "        if len(self.card_list) < 1:\n",
    "            random.shuffle(self.discards_list)\n",
    "            self.card_list = self.discards_list\n",
    "            self.discards_list = []\n",
    "            print('Reshuffling...!!!')\n",
    "        new_card = self.card_list.pop()\n",
    "        self.cards_in_play_list.append(new_card)\n",
    "        return new_card\n",
    "\n",
    "    def new_hand(self):\n",
    "        self.discards_list += self.cards_in_play_list\n",
    "        self.cards_in_play_list.clear()"
   ]
  },
  {
   "cell_type": "markdown",
   "metadata": {},
   "source": [
    "## 11.6\t덱에 픽토그램 추가하기"
   ]
  },
  {
   "cell_type": "code",
   "execution_count": 13,
   "metadata": {},
   "outputs": [
    {
     "name": "stdout",
     "output_type": "stream",
     "text": [
      "Q♥ 3♠ J♣ T♥ 4♥ "
     ]
    }
   ],
   "source": [
    "# File deck_test.py\n",
    "# ---------------------------------------\n",
    "\n",
    "import random\n",
    "\n",
    "class Deck():\n",
    "    def __init__(self, n_decks=1):\n",
    "        self.card_list = [num + suit\n",
    "            for suit in '\\u2665\\u2666\\u2663\\u2660'\n",
    "            for num in 'A23456789TJQK'\n",
    "            for deck in range(n_decks)]\n",
    "        self.cards_in_play_list = []\n",
    "        self.discards_list = []\n",
    "        random.shuffle(self.card_list)\n",
    "\n",
    "    def deal(self):\n",
    "        if len(self.card_list) < 1:\n",
    "            random.shuffle(self.discards_list)\n",
    "            self.card_list = self.discards_list\n",
    "            self.discards_list = []\n",
    "            print('Reshuffling...!!!')\n",
    "        new_card = self.card_list.pop()\n",
    "        self.cards_in_play_list.append(new_card)\n",
    "\n",
    "        return new_card\n",
    "\n",
    "    def new_hand(self):\n",
    "        self.discards_list += self.cards_in_play_list\n",
    "        self.cards_in_play_list.clear()\n",
    "\n",
    "dk = Deck(6) # Use six-deck shoe.\n",
    "for i in range(5):\n",
    "    print(dk.deal(), end=' ')"
   ]
  },
  {
   "cell_type": "markdown",
   "metadata": {},
   "source": [
    "## 11.7 정규 분포 차트 작성하기"
   ]
  },
  {
   "cell_type": "code",
   "execution_count": 14,
   "metadata": {},
   "outputs": [],
   "source": [
    "import random\n",
    "\n",
    "def pr_normal_chart(n):\n",
    "    hits = [0] * 20\n",
    "    for i in range(n):\n",
    "        x = random.normalvariate(100, 30)\n",
    "        j = int(x/10)\n",
    "        if 0 <= j < 20:\n",
    "            hits[j] += 1\n",
    "    for i in hits:\n",
    "        print('*' * int(i * 320 / n))"
   ]
  },
  {
   "cell_type": "code",
   "execution_count": 15,
   "metadata": {},
   "outputs": [
    {
     "name": "stdout",
     "output_type": "stream",
     "text": [
      "\n",
      "\n",
      "*\n",
      "*******\n",
      "**********\n",
      "***************\n",
      "*********************\n",
      "******************************\n",
      "*************************************\n",
      "***********************************\n",
      "**********************************************************\n",
      "*****************************\n",
      "****************************\n",
      "******************\n",
      "****************\n",
      "*****\n",
      "*\n",
      "*\n",
      "*\n",
      "\n"
     ]
    }
   ],
   "source": [
    "pr_normal_chart(500)"
   ]
  },
  {
   "cell_type": "code",
   "execution_count": 16,
   "metadata": {
    "scrolled": true
   },
   "outputs": [
    {
     "name": "stdout",
     "output_type": "stream",
     "text": [
      "\n",
      "\n",
      "*\n",
      "****\n",
      "********\n",
      "*************\n",
      "*********************\n",
      "******************************\n",
      "*************************************\n",
      "*****************************************\n",
      "*****************************************\n",
      "*************************************\n",
      "*****************************\n",
      "*********************\n",
      "*************\n",
      "********\n",
      "****\n",
      "*\n",
      "\n",
      "\n"
     ]
    }
   ],
   "source": [
    "pr_normal_chart(199000)"
   ]
  },
  {
   "cell_type": "markdown",
   "metadata": {},
   "source": [
    "## 11.8 나만의 난수 생성 프로그램 작성하기"
   ]
  },
  {
   "cell_type": "code",
   "execution_count": 17,
   "metadata": {},
   "outputs": [],
   "source": [
    "import time\n",
    "\n",
    "def gen_rand():\n",
    "    p1 = 1200556037\n",
    "    p2 = 2444555677\n",
    "    max_rand = 2 ** 32\n",
    "    r = int(time.time() * 1000)\n",
    "    while True:\n",
    "        n = r\n",
    "        n *= p2\n",
    "        n %= p1\n",
    "        n += r\n",
    "        n *= p1\n",
    "        n %= p2\n",
    "        n %= max_rand\n",
    "        r = n\n",
    "        yield n"
   ]
  },
  {
   "cell_type": "code",
   "execution_count": 18,
   "metadata": {},
   "outputs": [
    {
     "name": "stdout",
     "output_type": "stream",
     "text": [
      "1919307694\n",
      "943630443\n",
      "677049683\n",
      "943857168\n",
      "890338042\n",
      "2178053884\n",
      "1548444648\n",
      "1057289502\n",
      "209841853\n",
      "1987225878\n"
     ]
    }
   ],
   "source": [
    "gen_obj = gen_rand()\n",
    "for i in range(10): print(next(gen_obj))"
   ]
  },
  {
   "cell_type": "markdown",
   "metadata": {},
   "source": [
    "## 11.9\tMath 패키지 개요"
   ]
  },
  {
   "cell_type": "code",
   "execution_count": 19,
   "metadata": {},
   "outputs": [],
   "source": [
    "import math"
   ]
  },
  {
   "cell_type": "markdown",
   "metadata": {},
   "source": [
    "## 11.11 특별 수치 (pi) 사용하기"
   ]
  },
  {
   "cell_type": "code",
   "execution_count": 20,
   "metadata": {},
   "outputs": [
    {
     "name": "stdout",
     "output_type": "stream",
     "text": [
      "The value of pi is: 3.141592653589793\n"
     ]
    }
   ],
   "source": [
    "import math\n",
    "print('The value of pi is:', math.pi)"
   ]
  },
  {
   "cell_type": "code",
   "execution_count": 21,
   "metadata": {},
   "outputs": [
    {
     "name": "stdout",
     "output_type": "stream",
     "text": [
      "The value of pi is: 3.141592653589793\n"
     ]
    }
   ],
   "source": [
    "from math import pi\n",
    "print('The value of pi is:', pi)"
   ]
  },
  {
   "cell_type": "code",
   "execution_count": 22,
   "metadata": {},
   "outputs": [],
   "source": [
    "from math import pi\n",
    "\n",
    "def get_circ(d):\n",
    "    circ = d * pi\n",
    "    print('The circumference is', circ)\n",
    "    return circ"
   ]
  },
  {
   "cell_type": "code",
   "execution_count": 23,
   "metadata": {},
   "outputs": [
    {
     "data": {
      "text/plain": [
       "1.618033988749895"
      ]
     },
     "execution_count": 23,
     "metadata": {},
     "output_type": "execute_result"
    }
   ],
   "source": [
    "import math\n",
    "phi = (1 + math.sqrt(5))/ 2\n",
    "phi"
   ]
  },
  {
   "cell_type": "code",
   "execution_count": 24,
   "metadata": {},
   "outputs": [
    {
     "data": {
      "text/plain": [
       "1.618033988749895"
      ]
     },
     "execution_count": 24,
     "metadata": {},
     "output_type": "execute_result"
    }
   ],
   "source": [
    "phi = (1 + 5 ** 0.5)/ 2\n",
    "phi"
   ]
  },
  {
   "cell_type": "markdown",
   "metadata": {},
   "source": [
    "## 11.12 삼각 함수: 나무의 높이"
   ]
  },
  {
   "cell_type": "code",
   "execution_count": 25,
   "metadata": {},
   "outputs": [
    {
     "name": "stdout",
     "output_type": "stream",
     "text": [
      "Enter distance (0 to exit): 1000\n",
      "Enter angle of elevation: 7.4\n",
      "Height of the tree is 129.87732371691982\n",
      "Enter distance (0 to exit): 800\n",
      "Enter angle of elevation: 15\n",
      "Height of the tree is 214.35935394489815\n",
      "Enter distance (0 to exit): 0\n",
      "Bye!\n"
     ]
    }
   ],
   "source": [
    "from math import tan, radians\n",
    "\n",
    "def get_height(dist, angle):\n",
    "    return tan(radians(angle)) * dist\n",
    "\n",
    "def main():\n",
    "    while True:\n",
    "        d = float(input('Enter distance (0 to exit): '))\n",
    "        if d == 0:\n",
    "            print('Bye!')\n",
    "            break\n",
    "        a = float(input('Enter angle of elevation: '))\n",
    "        print('Height of the tree is', get_height(d, a))\n",
    "\n",
    "main()"
   ]
  },
  {
   "cell_type": "markdown",
   "metadata": {},
   "source": [
    "## 11.13\t로그: 숫자 맞추기 게임 돌아보기\n",
    "\n",
    "### 11.13.2\t 실제 프로그램에 로그 적용하기"
   ]
  },
  {
   "cell_type": "code",
   "execution_count": 26,
   "metadata": {},
   "outputs": [
    {
     "name": "stdout",
     "output_type": "stream",
     "text": [
      "Enter size of range: 50\n",
      "Max. number of guesses needed is 6\n"
     ]
    }
   ],
   "source": [
    "from math import log2, ceil\n",
    "\n",
    "n = int(input('Enter size of range: '))\n",
    "x = ceil(log2(n + 1))\n",
    "print('Max. number of guesses needed is', x)"
   ]
  },
  {
   "cell_type": "code",
   "execution_count": null,
   "metadata": {},
   "outputs": [],
   "source": []
  }
 ],
 "metadata": {
  "kernelspec": {
   "display_name": "Python 3",
   "language": "python",
   "name": "python3"
  },
  "language_info": {
   "codemirror_mode": {
    "name": "ipython",
    "version": 3
   },
   "file_extension": ".py",
   "mimetype": "text/x-python",
   "name": "python",
   "nbconvert_exporter": "python",
   "pygments_lexer": "ipython3",
   "version": "3.8.3"
  }
 },
 "nbformat": 4,
 "nbformat_minor": 4
}
