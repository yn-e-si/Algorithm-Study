{
 "cells": [
  {
   "cell_type": "markdown",
   "metadata": {},
   "source": [
    "## 2.1 문자열은 불변이다\n",
    "\n",
    "<br>\n",
    "<br>\n",
    "\n",
    "가변 타입의 장점\n",
    "- 데이터가 `즉시` 변경될 수 있다는 것\n",
    "\n",
    "불변 타입의 장점\n",
    "- 딕셔너리의 키로 사용가능"
   ]
  },
  {
   "cell_type": "code",
   "execution_count": 1,
   "metadata": {
    "scrolled": true
   },
   "outputs": [
    {
     "ename": "TypeError",
     "evalue": "'str' object does not support item assignment",
     "output_type": "error",
     "traceback": [
      "\u001b[1;31m---------------------------------------------------------------------------\u001b[0m",
      "\u001b[1;31mTypeError\u001b[0m                                 Traceback (most recent call last)",
      "\u001b[1;32m<ipython-input-1-706f92ca88b1>\u001b[0m in \u001b[0;36m<module>\u001b[1;34m\u001b[0m\n\u001b[0;32m      1\u001b[0m \u001b[0mmy_str\u001b[0m \u001b[1;33m=\u001b[0m \u001b[1;34m'예준아 안녕, 나는 수아야. '\u001b[0m\u001b[1;33m\u001b[0m\u001b[1;33m\u001b[0m\u001b[0m\n\u001b[1;32m----> 2\u001b[1;33m \u001b[0mmy_str\u001b[0m\u001b[1;33m[\u001b[0m\u001b[1;36m0\u001b[0m\u001b[1;33m]\u001b[0m \u001b[1;33m=\u001b[0m \u001b[1;34m'원'\u001b[0m                \u001b[1;31m# 에러!\u001b[0m\u001b[1;33m\u001b[0m\u001b[1;33m\u001b[0m\u001b[0m\n\u001b[0m",
      "\u001b[1;31mTypeError\u001b[0m: 'str' object does not support item assignment"
     ]
    }
   ],
   "source": [
    "my_str = '예준아 안녕, 나는 수아야. '\n",
    "my_str[0] = '원'                # 에러!"
   ]
  },
  {
   "cell_type": "code",
   "execution_count": 2,
   "metadata": {},
   "outputs": [],
   "source": [
    "my_str = '안녕'\n",
    "my_str = '안녕하세요'"
   ]
  },
  {
   "cell_type": "markdown",
   "metadata": {},
   "source": [
    "## 2.2 바이너리를 포함한 숫자 변환\n",
    "\n",
    "<br>\n",
    "\n",
    "`int(str , n)`\n",
    "- str을 int 로 변환할 때, n 진수로 변환"
   ]
  },
  {
   "cell_type": "code",
   "execution_count": 3,
   "metadata": {},
   "outputs": [
    {
     "name": "stdout",
     "output_type": "stream",
     "text": [
      "45\n",
      "45.0\n"
     ]
    }
   ],
   "source": [
    "s = '45'\n",
    "n = int(s)\n",
    "x = float(s)\n",
    "\n",
    "print(n)\n",
    "print(x)"
   ]
  },
  {
   "cell_type": "code",
   "execution_count": 4,
   "metadata": {},
   "outputs": [
    {
     "data": {
      "text/plain": [
       "17"
      ]
     },
     "execution_count": 4,
     "metadata": {},
     "output_type": "execute_result"
    }
   ],
   "source": [
    "n = int('10001', 2)      # 이진수로 변환\n",
    "n"
   ]
  },
  {
   "cell_type": "code",
   "execution_count": 5,
   "metadata": {},
   "outputs": [
    {
     "name": "stdout",
     "output_type": "stream",
     "text": [
      "8진수 775와 16진수 1E의 값: 509 30\n"
     ]
    }
   ],
   "source": [
    "n1 = int('775', 8)\n",
    "n2 = int('1E', 16)\n",
    "print('8진수 775와 16진수 1E의 값:', n1, n2)"
   ]
  },
  {
   "cell_type": "code",
   "execution_count": 6,
   "metadata": {},
   "outputs": [
    {
     "name": "stdout",
     "output_type": "stream",
     "text": [
      "1007 의 자릿수는 4 이다.\n"
     ]
    }
   ],
   "source": [
    "n = 1007\n",
    "s = str(n)          # '1007'로 변환\n",
    "print(n, '의 자릿수는', len(s), '이다.')"
   ]
  },
  {
   "cell_type": "markdown",
   "metadata": {},
   "source": [
    "## 2.3 문자열 연산자 (+, =, *, >, etc.)\n",
    "\n",
    "<br>\n",
    "\n",
    "- 문자열 is 객체: 문자열과 객체가 메모리상에 동일 객체를 참조하고 있으면 True를 반환"
   ]
  },
  {
   "cell_type": "code",
   "execution_count": 7,
   "metadata": {},
   "outputs": [
    {
     "data": {
      "text/plain": [
       "True"
      ]
     },
     "execution_count": 7,
     "metadata": {},
     "output_type": "execute_result"
    }
   ],
   "source": [
    "dog1_str = '멍멍이'      # 값 대입\n",
    "dog2_str = dog1_str     # 별칭 생성\n",
    "\n",
    "dog1_str == dog2_str    # 참!"
   ]
  },
  {
   "cell_type": "code",
   "execution_count": 8,
   "metadata": {},
   "outputs": [
    {
     "data": {
      "text/plain": [
       "True"
      ]
     },
     "execution_count": 8,
     "metadata": {},
     "output_type": "execute_result"
    }
   ],
   "source": [
    "dog1_str == '멍멍이'      # 참!"
   ]
  },
  {
   "cell_type": "code",
   "execution_count": 9,
   "metadata": {},
   "outputs": [
    {
     "name": "stdout",
     "output_type": "stream",
     "text": [
      "True\n"
     ]
    }
   ],
   "source": [
    "# 광범위한 유니코드 문자로 이루어진 문자열을 사용할 경우 casefold 를 사용하여 대,소문자를 구분하지 않고 값을 비교\n",
    "def compare_no_case(str1, str2):\n",
    "    return str1.casefold() == str2.casefold()\n",
    "\n",
    "print(compare_no_case('cat', 'CAT'))            # 참!"
   ]
  },
  {
   "cell_type": "code",
   "execution_count": 10,
   "metadata": {},
   "outputs": [
    {
     "name": "stdout",
     "output_type": "stream",
     "text": [
      "윌리엄 셰익스피어\n"
     ]
    }
   ],
   "source": [
    "first = '윌리엄'\n",
    "last = '셰익스피어'\n",
    "full_name = first + ' ' + last\n",
    "print(full_name)"
   ]
  },
  {
   "cell_type": "code",
   "execution_count": 11,
   "metadata": {},
   "outputs": [
    {
     "name": "stdout",
     "output_type": "stream",
     "text": [
      "______________________________\n"
     ]
    }
   ],
   "source": [
    "divider_str = '_' * 30\n",
    "print(divider_str)"
   ]
  },
  {
   "cell_type": "markdown",
   "metadata": {},
   "source": [
    "## 2.4 인덱싱과 슬라이싱"
   ]
  },
  {
   "cell_type": "code",
   "execution_count": 12,
   "metadata": {},
   "outputs": [
    {
     "data": {
      "text/plain": [
       "'안'"
      ]
     },
     "execution_count": 12,
     "metadata": {},
     "output_type": "execute_result"
    }
   ],
   "source": [
    "a = '안녕하세요'\n",
    "a[0]"
   ]
  },
  {
   "cell_type": "code",
   "execution_count": 13,
   "metadata": {},
   "outputs": [
    {
     "name": "stdout",
     "output_type": "stream",
     "text": [
      "<class 'str'>\n"
     ]
    }
   ],
   "source": [
    "s = '안녕하세요'\n",
    "ch = s[0]\n",
    "print(type(ch))"
   ]
  },
  {
   "cell_type": "code",
   "execution_count": 14,
   "metadata": {},
   "outputs": [
    {
     "name": "stdout",
     "output_type": "stream",
     "text": [
      "\"헨리 8세\"\n"
     ]
    }
   ],
   "source": [
    "king_str = '\"헨리 8세\"'\n",
    "print(king_str)"
   ]
  },
  {
   "cell_type": "code",
   "execution_count": 15,
   "metadata": {},
   "outputs": [
    {
     "name": "stdout",
     "output_type": "stream",
     "text": [
      "헨리 8세\n"
     ]
    }
   ],
   "source": [
    "new_str = king_str[1:-1]\n",
    "print(new_str)"
   ]
  },
  {
   "cell_type": "code",
   "execution_count": 16,
   "metadata": {},
   "outputs": [
    {
     "name": "stdout",
     "output_type": "stream",
     "text": [
      "ooo\n"
     ]
    }
   ],
   "source": [
    "a_str = 'RoboCop'\n",
    "b_str = a_str[1::2] \t\t\t# 문자 간격이 2인 문자들을 반환한다.\n",
    "print(b_str)"
   ]
  },
  {
   "cell_type": "code",
   "execution_count": 17,
   "metadata": {},
   "outputs": [
    {
     "name": "stdout",
     "output_type": "stream",
     "text": [
      "ADGJN\n"
     ]
    }
   ],
   "source": [
    "a_str = 'AbcDefGhiJklNop'\n",
    "b_str = a_str[::3] \t\t\t# 문자 간경이 3인 문자들을 반환한다.\n",
    "print(b_str)"
   ]
  },
  {
   "cell_type": "code",
   "execution_count": 18,
   "metadata": {},
   "outputs": [
    {
     "name": "stdout",
     "output_type": "stream",
     "text": [
      "!wow boB woW\n",
      "racecaR\n"
     ]
    }
   ],
   "source": [
    "def reverse_str(s):\n",
    "    return s[::-1]\n",
    "\n",
    "print(reverse_str('Wow Bob wow!'))\n",
    "print(reverse_str('Racecar'))"
   ]
  },
  {
   "cell_type": "code",
   "execution_count": 19,
   "metadata": {},
   "outputs": [
    {
     "data": {
      "text/plain": [
       "''"
      ]
     },
     "execution_count": 19,
     "metadata": {},
     "output_type": "execute_result"
    }
   ],
   "source": [
    "a_str = 'cat'\n",
    "b_str = a_str[10:20] \t\t# b_str은 빈 문자열이 대입된다.\n",
    "b_str"
   ]
  },
  {
   "cell_type": "markdown",
   "metadata": {},
   "source": [
    "## 2.5 단일-문자 함수(문자 코드)"
   ]
  },
  {
   "cell_type": "code",
   "execution_count": 20,
   "metadata": {},
   "outputs": [
    {
     "name": "stdout",
     "output_type": "stream",
     "text": [
      "65\n"
     ]
    }
   ],
   "source": [
    "print(ord('A')) \t\t# 65 출력"
   ]
  },
  {
   "cell_type": "code",
   "execution_count": 21,
   "metadata": {},
   "outputs": [
    {
     "name": "stdout",
     "output_type": "stream",
     "text": [
      "A\n"
     ]
    }
   ],
   "source": [
    "print(chr(65)) \t\t# 'A' 출력"
   ]
  },
  {
   "cell_type": "code",
   "execution_count": 22,
   "metadata": {},
   "outputs": [
    {
     "name": "stdout",
     "output_type": "stream",
     "text": [
      "첫 문자가 모음이군요.\n"
     ]
    }
   ],
   "source": [
    "s = 'elephant'\n",
    "if s[0] in 'aeiou':\n",
    "    print('첫 문자가 모음이군요.')"
   ]
  },
  {
   "cell_type": "code",
   "execution_count": 23,
   "metadata": {},
   "outputs": [
    {
     "name": "stdout",
     "output_type": "stream",
     "text": [
      "첫 문자가 자음이군요.\n"
     ]
    }
   ],
   "source": [
    "s = 'Helephant'\n",
    "if s[0] not in 'aeiou':\n",
    "    print('첫 문자가 자음이군요.')"
   ]
  },
  {
   "cell_type": "code",
   "execution_count": 24,
   "metadata": {},
   "outputs": [],
   "source": [
    "if s[0] in 'aeiouAEIOU':\n",
    "    print('첫 문자가 모음이군요.')"
   ]
  },
  {
   "cell_type": "code",
   "execution_count": 25,
   "metadata": {},
   "outputs": [
    {
     "name": "stdout",
     "output_type": "stream",
     "text": [
      "첫 문자가 모음이군요.\n"
     ]
    }
   ],
   "source": [
    "s = 'elephant'\n",
    "if s[0].upper() in 'AEIOU':\n",
    "    print('첫 문자가 모음이군요.')"
   ]
  },
  {
   "cell_type": "code",
   "execution_count": 26,
   "metadata": {},
   "outputs": [
    {
     "data": {
      "text/plain": [
       "True"
      ]
     },
     "execution_count": 26,
     "metadata": {},
     "output_type": "execute_result"
    }
   ],
   "source": [
    "'bad' in 'a bad dog' \t\t# 참!"
   ]
  },
  {
   "cell_type": "code",
   "execution_count": 27,
   "metadata": {},
   "outputs": [
    {
     "name": "stdout",
     "output_type": "stream",
     "text": [
      "True\n",
      "False\n"
     ]
    }
   ],
   "source": [
    "print('' in 'cat') \t\t# True 출력\n",
    "print([] in [1, 2, 3]) \t\t# False 출력"
   ]
  },
  {
   "cell_type": "code",
   "execution_count": 28,
   "metadata": {},
   "outputs": [
    {
     "name": "stdout",
     "output_type": "stream",
     "text": [
      "C , type: <class 'str'>\n",
      "a , type: <class 'str'>\n",
      "t , type: <class 'str'>\n"
     ]
    }
   ],
   "source": [
    "s = 'Cat'\n",
    "for ch in s:\n",
    "    print(ch, ', type:', type(ch))"
   ]
  },
  {
   "cell_type": "code",
   "execution_count": 29,
   "metadata": {},
   "outputs": [
    {
     "name": "stdout",
     "output_type": "stream",
     "text": [
      "67 97 116 "
     ]
    }
   ],
   "source": [
    "s = 'Cat'\n",
    "for ch in s:\n",
    "    print(ord(ch), end=' ')"
   ]
  },
  {
   "cell_type": "markdown",
   "metadata": {},
   "source": [
    "## 2.6 “join”을 사용하여 만든 문자열"
   ]
  },
  {
   "cell_type": "code",
   "execution_count": 30,
   "metadata": {},
   "outputs": [
    {
     "data": {
      "text/plain": [
       "'Big Bad John'"
      ]
     },
     "execution_count": 30,
     "metadata": {},
     "output_type": "execute_result"
    }
   ],
   "source": [
    "a_str = 'Big '\n",
    "a_str = a_str + 'Bad '\n",
    "a_str = a_str + 'John'\n",
    "a_str"
   ]
  },
  {
   "cell_type": "code",
   "execution_count": 31,
   "metadata": {},
   "outputs": [
    {
     "data": {
      "text/plain": [
       "'Big Bad John'"
      ]
     },
     "execution_count": 31,
     "metadata": {},
     "output_type": "execute_result"
    }
   ],
   "source": [
    "a_str = 'Big '\n",
    "a_str += 'Bad '\n",
    "a_str += 'John'\n",
    "a_str"
   ]
  },
  {
   "cell_type": "code",
   "execution_count": 32,
   "metadata": {},
   "outputs": [
    {
     "data": {
      "text/plain": [
       "'ABCDEFGHIJKLMNOPQRSTUVWXYZ'"
      ]
     },
     "execution_count": 32,
     "metadata": {},
     "output_type": "execute_result"
    }
   ],
   "source": [
    "n = ord('A')\n",
    "s = ''\n",
    "for i in range(n, n + 26):\n",
    "    s += chr(i)\n",
    "s"
   ]
  },
  {
   "cell_type": "code",
   "execution_count": 33,
   "metadata": {},
   "outputs": [
    {
     "data": {
      "text/plain": [
       "'ABCDEFGHIJKLMNOPQRSTUVWXYZ'"
      ]
     },
     "execution_count": 33,
     "metadata": {},
     "output_type": "execute_result"
    }
   ],
   "source": [
    "n = ord('A')\n",
    "a_lst = [ ]\n",
    "for i in range(n, n + 26):\n",
    "    a_lst.append(chr(i))\n",
    "s = ''.join(a_lst)\n",
    "s"
   ]
  },
  {
   "cell_type": "code",
   "execution_count": 34,
   "metadata": {},
   "outputs": [
    {
     "name": "stdout",
     "output_type": "stream",
     "text": [
      "John, Paul, George, Ringo\n"
     ]
    }
   ],
   "source": [
    "def print_nice(a_lst):\n",
    "    s = ''\n",
    "    for item in a_lst:\n",
    "        s += item + ', '\n",
    "    if len(s) > 0: \t\t#  문자열 끝의 콤마+빈칸 제거\n",
    "        s = s[:-2]\n",
    "    print(s)\n",
    "    \n",
    "\n",
    "print_nice(['John', 'Paul', 'George', 'Ringo'])"
   ]
  },
  {
   "cell_type": "code",
   "execution_count": 35,
   "metadata": {},
   "outputs": [
    {
     "name": "stdout",
     "output_type": "stream",
     "text": [
      "John, Paul, George, Ringo\n"
     ]
    }
   ],
   "source": [
    "def print_nice(a_lst):\n",
    "    print(', '.join(a_lst))\n",
    "    \n",
    "    \n",
    "print_nice(['John', 'Paul', 'George', 'Ringo'])"
   ]
  },
  {
   "cell_type": "markdown",
   "metadata": {},
   "source": [
    "## 2.7 주요 문자열 함수"
   ]
  },
  {
   "cell_type": "code",
   "execution_count": 36,
   "metadata": {},
   "outputs": [
    {
     "name": "stdout",
     "output_type": "stream",
     "text": [
      "Jaxx has 4 letters.\n",
      "Cutie Pie has 9 letters.\n"
     ]
    }
   ],
   "source": [
    "dog1 = 'Jaxx'\n",
    "dog2 = 'Cutie Pie'\n",
    "print(dog1, 'has', len(dog1), 'letters.')\n",
    "print(dog2, 'has', len(dog2), 'letters.')"
   ]
  },
  {
   "cell_type": "code",
   "execution_count": 37,
   "metadata": {},
   "outputs": [
    {
     "name": "stdout",
     "output_type": "stream",
     "text": [
      "!wow,boB,woW\n",
      "!,,BWbooowww\n"
     ]
    }
   ],
   "source": [
    "a_str = ''.join(reversed('Wow,Bob,wow!'))\n",
    "print(a_str)\n",
    "b_str = ''.join(sorted('Wow,Bob,wow!'))\n",
    "print(b_str)"
   ]
  },
  {
   "cell_type": "markdown",
   "metadata": {},
   "source": [
    "## 2.8 이진수, 십진수와 16진수 변환 함수"
   ]
  },
  {
   "cell_type": "code",
   "execution_count": 38,
   "metadata": {},
   "outputs": [
    {
     "name": "stdout",
     "output_type": "stream",
     "text": [
      "0b1010 0o12 0xa\n"
     ]
    }
   ],
   "source": [
    "print(bin(10), oct(10), hex(10))"
   ]
  },
  {
   "cell_type": "markdown",
   "metadata": {},
   "source": [
    "## 2.9 간단한 불리언 (‘is’) 메서드"
   ]
  },
  {
   "cell_type": "code",
   "execution_count": 39,
   "metadata": {},
   "outputs": [
    {
     "name": "stdout",
     "output_type": "stream",
     "text": [
      "First letter is uppercase.\n",
      "Not all chars are uppercase.\n"
     ]
    }
   ],
   "source": [
    "h_str = 'Hello'\n",
    "if h_str[0].isupper():\n",
    "    print('First letter is uppercase.')\n",
    "if h_str.isupper():\n",
    "    print('All chars are uppercase.')\n",
    "else:\n",
    "    print('Not all chars are uppercase.')"
   ]
  },
  {
   "cell_type": "markdown",
   "metadata": {},
   "source": [
    "## 2.10 대소문자 변환 메서드"
   ]
  },
  {
   "cell_type": "code",
   "execution_count": 40,
   "metadata": {},
   "outputs": [
    {
     "data": {
      "text/plain": [
       "\"I'M HENRY VIII, I AM!\""
      ]
     },
     "execution_count": 40,
     "metadata": {},
     "output_type": "execute_result"
    }
   ],
   "source": [
    "my_str = \"I'm Henry VIII, I am!\"\n",
    "new_str = my_str.upper()\n",
    "my_str = new_str\n",
    "my_str"
   ]
  },
  {
   "cell_type": "code",
   "execution_count": 41,
   "metadata": {},
   "outputs": [
    {
     "name": "stdout",
     "output_type": "stream",
     "text": [
      "i'M hENRY viii, i AM!\n"
     ]
    }
   ],
   "source": [
    "my_str = \"I'm Henry VIII, I am!\"\n",
    "my_str = my_str.swapcase()\n",
    "print(my_str)"
   ]
  },
  {
   "cell_type": "markdown",
   "metadata": {},
   "source": [
    "## 2.11 검색-교체 메서드"
   ]
  },
  {
   "cell_type": "code",
   "execution_count": 42,
   "metadata": {},
   "outputs": [],
   "source": [
    "romstr = 'MMXV'\n",
    "amt = 0\n",
    "\n",
    "while romstr.startswith('M'):\n",
    "    amt += 1000 \t\t# 합계를 위해1,000을 더한다.\n",
    "    romstr = romstr[1:] \t# 첫 번째 문자를 제거한다."
   ]
  },
  {
   "cell_type": "code",
   "execution_count": 43,
   "metadata": {},
   "outputs": [
    {
     "data": {
      "text/plain": [
       "True"
      ]
     },
     "execution_count": 43,
     "metadata": {},
     "output_type": "execute_result"
    }
   ],
   "source": [
    "me_str = 'John Bennett, PhD'\n",
    "is_doc = me_str.endswith('PhD')\n",
    "is_doc"
   ]
  },
  {
   "cell_type": "code",
   "execution_count": 44,
   "metadata": {},
   "outputs": [
    {
     "name": "stdout",
     "output_type": "stream",
     "text": [
      "3\n"
     ]
    }
   ],
   "source": [
    "frank_str = 'doo be doo be doo...'\n",
    "\n",
    "n = frank_str.count('doo')\n",
    "print(n) \t\t\t\t# 3 출력"
   ]
  },
  {
   "cell_type": "code",
   "execution_count": 45,
   "metadata": {},
   "outputs": [
    {
     "name": "stdout",
     "output_type": "stream",
     "text": [
      "2\n",
      "1\n"
     ]
    }
   ],
   "source": [
    "print(frank_str.count('doo', 1)) \t\t\t# 2 출력\n",
    "print(frank_str.count('doo', 1, 10)) \t\t# 1 출력"
   ]
  },
  {
   "cell_type": "code",
   "execution_count": 46,
   "metadata": {},
   "outputs": [
    {
     "name": "stdout",
     "output_type": "stream",
     "text": [
      "0\n",
      "-1\n"
     ]
    }
   ],
   "source": [
    "frank_str = 'doo be doo be doo...'\n",
    "print(frank_str.find('doo')) \t\t\t# 0 출력\n",
    "print(frank_str.find('doob')) \t\t\t# -1 출력"
   ]
  },
  {
   "cell_type": "code",
   "execution_count": 47,
   "metadata": {},
   "outputs": [
    {
     "name": "stdout",
     "output_type": "stream",
     "text": [
      "0 7 14 "
     ]
    }
   ],
   "source": [
    "frank_str = 'doo be doo be doo...'\n",
    "n = -1\n",
    "\n",
    "while True:\n",
    "    n = frank_str.find('doo', n + 1)\n",
    "    if n == -1:\n",
    "        break\n",
    "    print(n, end=' ')"
   ]
  },
  {
   "cell_type": "code",
   "execution_count": 48,
   "metadata": {},
   "outputs": [
    {
     "name": "stdout",
     "output_type": "stream",
     "text": [
      "14\n"
     ]
    }
   ],
   "source": [
    "frank_str = 'doo be doo be doo...'\n",
    "print(frank_str.rfind('doo')) \t\t\t# 14 출력"
   ]
  },
  {
   "cell_type": "code",
   "execution_count": 49,
   "metadata": {},
   "outputs": [
    {
     "data": {
      "text/plain": [
       "'25 Hues of Gray'"
      ]
     },
     "execution_count": 49,
     "metadata": {},
     "output_type": "execute_result"
    }
   ],
   "source": [
    "title = '25 Hues of Grey'\n",
    "new_title = title.replace('Grey', 'Gray')\n",
    "new_title"
   ]
  },
  {
   "cell_type": "code",
   "execution_count": 50,
   "metadata": {},
   "outputs": [
    {
     "data": {
      "text/plain": [
       "'Grayer Into Gray'"
      ]
     },
     "execution_count": 50,
     "metadata": {},
     "output_type": "execute_result"
    }
   ],
   "source": [
    "title = 'Greyer Into Grey'\n",
    "new_title = title.replace('Grey', 'Gray')\n",
    "new_title"
   ]
  },
  {
   "cell_type": "markdown",
   "metadata": {},
   "source": [
    "## 2.12 ‘split’을 활용한 입력 값 쪼개기"
   ]
  },
  {
   "cell_type": "code",
   "execution_count": 51,
   "metadata": {},
   "outputs": [
    {
     "data": {
      "text/plain": [
       "['Moe', 'Larry', 'Curly', 'Shemp']"
      ]
     },
     "execution_count": 51,
     "metadata": {},
     "output_type": "execute_result"
    }
   ],
   "source": [
    "stooge_list = 'Moe Larry Curly Shemp'.split()\n",
    "stooge_list"
   ]
  },
  {
   "cell_type": "code",
   "execution_count": 52,
   "metadata": {},
   "outputs": [
    {
     "data": {
      "text/plain": [
       "['Moe', 'Larry', 'Curly', 'Shemp']"
      ]
     },
     "execution_count": 52,
     "metadata": {},
     "output_type": "execute_result"
    }
   ],
   "source": [
    "stooge_list = 'Moe    Larry Curly  Shemp'.split()\n",
    "stooge_list"
   ]
  },
  {
   "cell_type": "code",
   "execution_count": 53,
   "metadata": {},
   "outputs": [
    {
     "data": {
      "text/plain": [
       "['Moe', '', '', '', 'Larry', 'Curly', '', 'Shemp']"
      ]
     },
     "execution_count": 53,
     "metadata": {},
     "output_type": "execute_result"
    }
   ],
   "source": [
    "stooge_list = 'Moe    Larry Curly  Shemp'.split(' ')\n",
    "stooge_list"
   ]
  },
  {
   "cell_type": "code",
   "execution_count": 54,
   "metadata": {},
   "outputs": [
    {
     "data": {
      "text/plain": [
       "['Moe', 'Larry', 'Curly', 'Shemp']"
      ]
     },
     "execution_count": 54,
     "metadata": {},
     "output_type": "execute_result"
    }
   ],
   "source": [
    "stooge_list = 'Moe, Larry, Curly, Shemp'.split(', ')\n",
    "stooge_list"
   ]
  },
  {
   "cell_type": "code",
   "execution_count": 55,
   "metadata": {},
   "outputs": [
    {
     "data": {
      "text/plain": [
       "['Moe', ' Larry', ' Curly', ' Shemp']"
      ]
     },
     "execution_count": 55,
     "metadata": {},
     "output_type": "execute_result"
    }
   ],
   "source": [
    "stooge_list = 'Moe, Larry, Curly, Shemp'.split(',')\n",
    "stooge_list"
   ]
  },
  {
   "cell_type": "markdown",
   "metadata": {},
   "source": [
    "## 2.13 앞/뒤 문자 제거하기(stripping)"
   ]
  },
  {
   "cell_type": "code",
   "execution_count": 56,
   "metadata": {},
   "outputs": [
    {
     "data": {
      "text/plain": [
       "'Will Shakes'"
      ]
     },
     "execution_count": 56,
     "metadata": {},
     "output_type": "execute_result"
    }
   ],
   "source": [
    "name_str = ' Will Shakes '\n",
    "new_str = name_str.strip()\n",
    "new_str"
   ]
  },
  {
   "cell_type": "markdown",
   "metadata": {},
   "source": [
    "## 2.14 자리맞춤 메서드(justification)"
   ]
  },
  {
   "cell_type": "code",
   "execution_count": 57,
   "metadata": {},
   "outputs": [
    {
     "name": "stdout",
     "output_type": "stream",
     "text": [
      "##Help!###\n"
     ]
    }
   ],
   "source": [
    "new_str = 'Help!'.center(10, '#')\n",
    "print(new_str)"
   ]
  },
  {
   "cell_type": "code",
   "execution_count": 58,
   "metadata": {},
   "outputs": [
    {
     "name": "stdout",
     "output_type": "stream",
     "text": [
      "000750\n"
     ]
    }
   ],
   "source": [
    "new_str = '750'.rjust(6, '0')\n",
    "print(new_str)"
   ]
  },
  {
   "cell_type": "code",
   "execution_count": 59,
   "metadata": {},
   "outputs": [
    {
     "name": "stdout",
     "output_type": "stream",
     "text": [
      "0000012\n"
     ]
    }
   ],
   "source": [
    "s = '12'\n",
    "print(s.zfill(7))"
   ]
  },
  {
   "cell_type": "code",
   "execution_count": 60,
   "metadata": {},
   "outputs": [
    {
     "data": {
      "text/plain": [
       "'-0003'"
      ]
     },
     "execution_count": 60,
     "metadata": {},
     "output_type": "execute_result"
    }
   ],
   "source": [
    "'-3'.zfill(5)"
   ]
  },
  {
   "cell_type": "code",
   "execution_count": 61,
   "metadata": {},
   "outputs": [
    {
     "data": {
      "text/plain": [
       "'000-3'"
      ]
     },
     "execution_count": 61,
     "metadata": {},
     "output_type": "execute_result"
    }
   ],
   "source": [
    "'-3'.rjust(5, '0')"
   ]
  },
  {
   "cell_type": "code",
   "execution_count": null,
   "metadata": {},
   "outputs": [],
   "source": []
  }
 ],
 "metadata": {
  "kernelspec": {
   "display_name": "Python 3",
   "language": "python",
   "name": "python3"
  },
  "language_info": {
   "codemirror_mode": {
    "name": "ipython",
    "version": 3
   },
   "file_extension": ".py",
   "mimetype": "text/x-python",
   "name": "python",
   "nbconvert_exporter": "python",
   "pygments_lexer": "ipython3",
   "version": "3.7.3"
  }
 },
 "nbformat": 4,
 "nbformat_minor": 2
}
